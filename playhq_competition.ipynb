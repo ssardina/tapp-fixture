{
 "cells": [
  {
   "attachments": {},
   "cell_type": "markdown",
   "metadata": {},
   "source": [
    "# PlayHQ Season Competition: Team & Fixture Extraction\n",
    "\n",
    "This notebook can be used to:\n",
    "\n",
    "1. Find the seasons available under an orgaization (e.g., Coburg Association).\n",
    "2. Find season ID from the season name, and vice-versa.\n",
    "3. Extract all teams in a season competition (and save them into a CSV file).\n",
    "4. Extract the fixtures of every team in the competition so far. If the games have been played, the result will be there too.\n",
    "\n",
    "All the data is from [PlayHQ](http://playhq.com/) via its Public [API](https://support.playhq.com/hc/en-au/sections/4405422358297-PlayHQ-APIs). Detailed reference documentation for PlayHQ API can be found [here](https://docs.playhq.com/tech).\n",
    "\n",
    "This notebook was first used to support the scheduler season capstone project in 2023.\n",
    "\n",
    "**Contact:** Sebastian Sardina (sssardina@gmail.com)"
   ]
  },
  {
   "cell_type": "code",
   "execution_count": null,
   "metadata": {},
   "outputs": [],
   "source": [
    "# from IPython.core.interactiveshell import InteractiveShell\n",
    "# InteractiveShell.ast_node_interactivity = \"all\"\n",
    "import pandas as pd\n",
    "import json\n",
    "import re\n",
    "import os\n",
    "import csv\n",
    "\n",
    "import playhq as phq"
   ]
  },
  {
   "attachments": {},
   "cell_type": "markdown",
   "metadata": {},
   "source": [
    "## 1. Configuration and set-up\n",
    "\n",
    "We first configure and set-up the application. This means reading configuration variables from a config file and setting the game day.\n",
    "\n",
    "So, first of all, specify the following information:\n",
    "\n",
    "1. Configuration file for the club and season.\n",
    "2. Game dates interval to scrape."
   ]
  },
  {
   "cell_type": "code",
   "execution_count": null,
   "metadata": {},
   "outputs": [],
   "source": [
    "# Change this to import your club's own configuration\n",
    "# from config_bmc_s22 import *\n",
    "from config_bmc_s23 import *\n",
    "# from config_cba import *\n",
    "\n",
    "# Create phq_club object\n",
    "phq_club = phq.PlayHQ(CLUB_NAME, ORG_ID, X_API_KEY, X_TENANT, TIMEZONE, tapp_team_name, tapp_game_name)\n",
    "\n",
    "print(f\"Club name: {CLUB_NAME} (org. id: {ORG_ID})\")\n",
    "print(\"X-tenant:\", X_TENANT, \"x-api-key:\", X_API_KEY)\n",
    "\n",
    "print(\"Timezone:\", TIMEZONE)\n",
    "print(\"PlayHQ Club fixture:\", PLAYHQ_SEASON_URL)\n",
    "\n",
    "\n",
    "OUTPUT_ROOT_PATH = \"fixtures-out\"\n",
    "if not os.path.exists(OUTPUT_ROOT_PATH):\n",
    "    print(\"ERROR: Output path does not exist:\", OUTPUT_ROOT_PATH)\n"
   ]
  },
  {
   "attachments": {},
   "cell_type": "markdown",
   "metadata": {},
   "source": [
    "## 2. Get season id from season name"
   ]
  },
  {
   "cell_type": "markdown",
   "metadata": {},
   "source": [
    "Find the season id from the season name, if we don't know it. It will also print the JSON received so one can manually check the seasons available for the organization."
   ]
  },
  {
   "cell_type": "code",
   "execution_count": null,
   "metadata": {},
   "outputs": [],
   "source": [
    "# get competition id\n",
    "SEASON = \"Winter 2023\"\n",
    "SEASON = \"Summer 2023/24\"\n",
    "# SEASON = None   # use this if you don't know and just want to list them all\n",
    "\n",
    "season_id = None\n",
    "competition_id = None\n",
    "for data_json in phq_club.get_json(f\"organisations/{ORG_ID}/seasons\"):\n",
    "    print(json.dumps(data_json, sort_keys=True, indent=4))\n",
    "\n",
    "    for x in data_json['data']:\n",
    "        if SEASON is None:\n",
    "            continue\n",
    "        if x['name'] == SEASON:\n",
    "            season_id = x['id']\n",
    "            # competition_id = x['competition']['id']\n",
    "            print(f'Seasons *{SEASON}* found with id: {season_id}')\n",
    "\n"
   ]
  },
  {
   "attachments": {},
   "cell_type": "markdown",
   "metadata": {},
   "source": [
    "## 3. Set the season id to scrape\n",
    "\n",
    "First set the season id we want to scrape. We can get it from the name using the above cell, but it has to be set manually here. \n",
    "\n",
    "Once set, find the season name and set the output path where all output files (including the fixture per team) will be saved."
   ]
  },
  {
   "cell_type": "code",
   "execution_count": null,
   "metadata": {},
   "outputs": [],
   "source": [
    "season_id = \"a94981b4-75b7-429f-9005-915182ab6153\" # Victorian Junior Domestic - Summer 2022/23\n",
    "season_id = \"cdbe3065-2a32-4c6d-8771-f8fae3fa7611\" # Victorian Junior Domestic - Winter 2023\n",
    "season_id = \"2485b3f7-55de-4b88-a3b6-527c36717fee\" # Victorian Junior Domestic - Summer 2023/24\n",
    "\n",
    "# season_id = \"78824ad1-0ca6-46c5-9440-dbe20c948b2f\"  # VJBL 2023\n",
    "# season_id = \"8d724c0a-3a0f-4da7-92f8-2e2053a6707b\"  # National Junior 2023\n",
    "\n",
    "season_name = None\n",
    "for data_json in phq_club.get_json(f\"organisations/{ORG_ID}/seasons\"):\n",
    "    # print(json.dumps(data_json, sort_keys=True, indent=4))\n",
    "\n",
    "    for x in data_json['data']:\n",
    "        if x['id'] == season_id:\n",
    "            season_name = x['name']\n",
    "            break\n",
    "\n",
    "\n",
    "print(f'Found season name for *{season_id}*: {season_name}')\n",
    "\n",
    "OUTPUT_PATH = os.path.join(OUTPUT_ROOT_PATH, season_name.lower().replace(' ', '_').replace('/', '-'))\n",
    "\n",
    "if not os.path.exists(OUTPUT_PATH):\n",
    "    os.mkdir(OUTPUT_PATH)\n",
    "\n",
    "print(f'Output PATH to store fixtures ready: {OUTPUT_PATH}')\n"
   ]
  },
  {
   "cell_type": "markdown",
   "metadata": {},
   "source": [
    "## 4. Extract participating teams\n",
    "\n",
    "Get all the teams participating in the competition. Save the list to file `teams.csv`"
   ]
  },
  {
   "cell_type": "code",
   "execution_count": null,
   "metadata": {},
   "outputs": [],
   "source": [
    "teams = []\n",
    "for data_json in phq_club.get_json(f\"seasons/{season_id}/teams\"):\n",
    "    print(data_json)\n",
    "    if data_json['data'][0]['club'] is None:\n",
    "        break\n",
    "    for t in data_json['data']:\n",
    "        # print(t)\n",
    "        team = {}\n",
    "\n",
    "        team['id'] = t['id']\n",
    "        team['club'] = t['club']['name'] if t['club'] is not None else \"Unknown\"\n",
    "        if t['grade'] is None:\n",
    "            continue    # skip teams without grade\n",
    "        team['grade'] = t['grade']['name']\n",
    "        team['name'] = t['name']\n",
    "\n",
    "        teams.append(team)\n",
    "    # print(json.dumps(data_json, sort_keys=True, indent=4))\n",
    "\n",
    "print(\"Number of teams extracted:\", len(teams))\n",
    "print(teams[10])\n",
    "\n",
    "\n",
    "fieldnames = [\"id\", \"club\", \"grade\", \"name\"]\n",
    "with open(os.path.join(OUTPUT_PATH, \"teams.csv\"), 'w', encoding='UTF8', newline='') as f:\n",
    "    writer = csv.DictWriter(f, fieldnames=fieldnames)\n",
    "    writer.writeheader()\n",
    "    writer.writerows(teams)\n"
   ]
  },
  {
   "cell_type": "markdown",
   "metadata": {},
   "source": [
    "## 5. Extract fixture for each team\n",
    "\n",
    "Now extract the fixture so far of every team in the competition. Store each team fixture in a JSON file. Note that games will appear in two files always: for the home and away teams."
   ]
  },
  {
   "cell_type": "code",
   "execution_count": null,
   "metadata": {},
   "outputs": [],
   "source": [
    "# team_id = \"139ecf7c-55e5-411f-bbce-4bceb321f342\"\n",
    "# team_id=\"b55cb46c-8415-4b6e-9ac5-ad38b02e5b35\"\n",
    "\n",
    "for team in teams:\n",
    "    team_id = team['id']\n",
    "    standard_name = re.sub(r'[\\W_]', \"_\", team['name'])\n",
    "    file_name = os.path.join(OUTPUT_PATH, standard_name + \".json\") \n",
    "\n",
    "    if os.path.exists(file_name):\n",
    "        continue\n",
    "    print(\"Processing team:\", team['name'])\n",
    "\n",
    "    games = {}\n",
    "    games[\"data\"] = []\n",
    "\n",
    "    for data_json in phq_club.get_json(f\"teams/{team_id}/fixture\"):\n",
    "        # if data_json['data'][0]['club'] is None:\n",
    "        #     break\n",
    "        games[\"data\"] = games[\"data\"] + data_json['data']\n",
    "\n",
    "    with open(file_name, \"w\") as f:\n",
    "        f.write(json.dumps(games, sort_keys=True, indent=4))\n",
    "\n",
    "\n",
    "print(\"Number of teams fixture extracted:\", len(teams))\n",
    "# print(teams[10])"
   ]
  },
  {
   "cell_type": "markdown",
   "metadata": {},
   "source": [
    "To print the fixture of a particular team:"
   ]
  },
  {
   "cell_type": "code",
   "execution_count": null,
   "metadata": {},
   "outputs": [],
   "source": [
    "team_id = '10b5d298-2de3-4296-a360-70c8d729fbc5'\n",
    "\n",
    "for data_json in phq_club.get_json(f\"teams/{team_id}/fixture\"):\n",
    "    print(data_json)"
   ]
  }
 ],
 "metadata": {
  "kernelspec": {
   "display_name": "Python 3",
   "language": "python",
   "name": "python3"
  },
  "language_info": {
   "codemirror_mode": {
    "name": "ipython",
    "version": 3
   },
   "file_extension": ".py",
   "mimetype": "text/x-python",
   "name": "python",
   "nbconvert_exporter": "python",
   "pygments_lexer": "ipython3",
   "version": "3.10.12"
  },
  "vscode": {
   "interpreter": {
    "hash": "767d51c1340bd893661ea55ea3124f6de3c7a262a8b4abca0554b478b1e2ff90"
   }
  }
 },
 "nbformat": 4,
 "nbformat_minor": 2
}
