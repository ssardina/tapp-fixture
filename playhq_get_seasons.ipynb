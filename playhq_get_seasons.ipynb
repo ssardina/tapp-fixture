{
 "cells": [
  {
   "attachments": {},
   "cell_type": "markdown",
   "metadata": {},
   "source": [
    "# PlayHQ Season Id Extraction\n",
    "\n",
    "This notebook can be used to get all available seasons in PlayHQ for an organization (e.g., Coburg Association).\n",
    "\n",
    "All the data is from [PlayHQ](http://playhq.com/) via its Public [API](https://support.playhq.com/hc/en-au/sections/4405422358297-PlayHQ-APIs). Detailed reference documentation for PlayHQ API can be found [here](https://docs.playhq.com/tech).\n",
    "\n",
    "This notebook was first used to support the scheduler season capstone project in 2023.\n",
    "\n",
    "**Contact:** Sebastian Sardina (sssardina@gmail.com)"
   ]
  },
  {
   "cell_type": "code",
   "execution_count": null,
   "metadata": {},
   "outputs": [],
   "source": [
    "# from IPython.core.interactiveshell import InteractiveShell\n",
    "# InteractiveShell.ast_node_interactivity = \"all\"\n",
    "import json\n",
    "\n",
    "import playhq as phq"
   ]
  },
  {
   "attachments": {},
   "cell_type": "markdown",
   "metadata": {},
   "source": [
    "## 1. Configuration and set-up\n",
    "\n",
    "We first configure and set-up the application. This means reading configuration variables from a config file and setting the game day.\n",
    "\n",
    "For this notebook only some variables are needed to access the PlayHQ API: `CLUB_NAME`, `ORG_ID`, `X_API_KEY`, `X_TENANT`, and `TIMEZONE`."
   ]
  },
  {
   "cell_type": "code",
   "execution_count": null,
   "metadata": {},
   "outputs": [],
   "source": [
    "# Change this to import your club's own configuration\n",
    "# from config_bmc_s22 import *\n",
    "# from config_bmc_s23 import *\n",
    "from config_bmc_w24 import *\n",
    "# from config_cba import *\n",
    "\n",
    "# Create phq_club object\n",
    "phq_club = phq.PlayHQ(CLUB_NAME, ORG_ID, X_API_KEY, X_TENANT, TIMEZONE, tapp_team_name, tapp_game_name)\n",
    "\n",
    "print(f\"Club name: {CLUB_NAME} (org. id: {ORG_ID[0:8]}****)\")\n",
    "print(\"X-tenant:\", X_TENANT, \"x-api-key:\", X_API_KEY[0:8]+ \"****\")\n",
    "print(\"Timezone:\", TIMEZONE)"
   ]
  },
  {
   "attachments": {},
   "cell_type": "markdown",
   "metadata": {},
   "source": [
    "## 2. Get information on all seasons available"
   ]
  },
  {
   "cell_type": "markdown",
   "metadata": {},
   "source": [
    "Retrieve all seasons available."
   ]
  },
  {
   "cell_type": "code",
   "execution_count": null,
   "metadata": {},
   "outputs": [],
   "source": [
    "for data_json in phq_club.get_json(f\"organisations/{ORG_ID}/seasons\"):\n",
    "    # print(json.dumps(data_json, sort_keys=True, indent=4))\n",
    "\n",
    "    for x in data_json['data']:\n",
    "        print(\"Season name:\", x['name'])\n",
    "        print(\"Season Id:\", x['id'])\n",
    "        print(\"Competition:\", x['competition']['name'])\n",
    "        print(\"Status:\", x['status'])\n",
    "        print()\n",
    "\n"
   ]
  }
 ],
 "metadata": {
  "kernelspec": {
   "display_name": "Python 3",
   "language": "python",
   "name": "python3"
  },
  "language_info": {
   "codemirror_mode": {
    "name": "ipython",
    "version": 3
   },
   "file_extension": ".py",
   "mimetype": "text/x-python",
   "name": "python",
   "nbconvert_exporter": "python",
   "pygments_lexer": "ipython3",
   "version": "3.10.12"
  },
  "vscode": {
   "interpreter": {
    "hash": "767d51c1340bd893661ea55ea3124f6de3c7a262a8b4abca0554b478b1e2ff90"
   }
  }
 },
 "nbformat": 4,
 "nbformat_minor": 2
}
