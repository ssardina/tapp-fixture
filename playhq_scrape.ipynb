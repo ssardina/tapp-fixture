{
 "cells": [
  {
   "cell_type": "markdown",
   "metadata": {},
   "source": [
    "# PlayHQ Fixture Scraping\n",
    "\n",
    "[![Open In Colab](https://colab.research.google.com/assets/colab-badge.svg)](https://colab.research.google.com/github/ssardina/tapp-fixture/blob/main/playhq_scrape.ipynb)\n",
    "\n",
    "This system allows to scrape game fixtures from [PlayHQ](http://playhq.com/) via its Public [API](https://support.playhq.com/hc/en-au/sections/4405422358297-PlayHQ-APIs). It will produce a CSV file ready to be uploaded as Schedule in [TeamApp](https://brunswickmagicbasketball.teamapp.com/).\n",
    "\n",
    "The *Public* APIs only require a header parameters to get a successful response, which includes the following components:\n",
    "\n",
    "- `x-api-key` (also referred to as the Client ID) will be provided by PlayHQ when you request access to the public API via their [support page](https://support.playhq.com/hc/en-au) or email support@playhqsupport.zendesk.com. This key can be stored in a file `x_api_key.txt` or it will be asked interactively by the notebook otherwise. In many cases, the feature to create new API credentials is disabled for a user and can only be actioned by a Super Administrator role within the Play HQ portal.\n",
    "- `x-phq-tenant` usually refers to the sport/association - in this case '`bv`'.\n",
    "\n",
    "\n",
    "Detailed reference documentation for PlayHQ API can be found [here](https://docs.playhq.com/tech).\n",
    "\n",
    "**Contact:** Sebastian Sardina (sssardina@gmail.com)"
   ]
  },
  {
   "cell_type": "code",
   "execution_count": 1,
   "metadata": {},
   "outputs": [],
   "source": [
    "# from IPython.core.interactiveshell import InteractiveShell\n",
    "# InteractiveShell.ast_node_interactivity = \"all\"\n",
    "import pandas as pd\n",
    "import re\n",
    "import os\n",
    "import calendar, datetime\n",
    "import dtale\n",
    "\n",
    "import utils\n",
    "import playhq as phq"
   ]
  },
  {
   "cell_type": "markdown",
   "metadata": {},
   "source": [
    "## 1. Configuration and set-up\n",
    "\n",
    "We first configure and set-up the application. This means reading configuration variables from a config file and setting the game day.\n",
    "\n",
    "So, first of all, specify the following information:\n",
    "\n",
    "1. Configuration file for the club and season.\n",
    "2. Game dates interval to scrape."
   ]
  },
  {
   "cell_type": "code",
   "execution_count": 2,
   "metadata": {},
   "outputs": [
    {
     "name": "stdout",
     "output_type": "stream",
     "text": [
      "Club name: Coburg Giants Basketball Club (org. id: 5db1d983-5453-4b73-912a-457e72c273c3)\n",
      "Season: 2023 (season id: 78824ad1-0ca6-46c5-9440-dbe20c948b2f)\n",
      "X-tenant: bv x-api-key: f5d33c76-f858-49fa-8330-8e0e396219cd\n",
      "Output path: CBA/fixture/\n",
      "Timezone: Australia/Melbourne\n",
      "Game dates: Saturday November 12, 2022 (2022/11/12) - Saturday December 17, 2022 (2022/12/17)\n",
      "PlayHQ Club fixture: https://bit.ly/cba-vjbl23\n"
     ]
    }
   ],
   "source": [
    "# Change this to import your club's own configuration\n",
    "# from config_bmc import *\n",
    "from config_cba import *\n",
    "\n",
    "# Set the game date interval scrape\n",
    "GAME_DATE_START = datetime.date.today() # by default, any game after today\n",
    "# GAME_DATE_START = utils.next_day(calendar.SATURDAY)   # start from next game day\n",
    "# GAME_DATE_START = datetime.date(2022, 11, 10) # start on a specific day\n",
    "\n",
    "WEEKS = 5   # how many weeks after date start we want to scrape\n",
    "GAME_DATE_END = GAME_DATE_START + datetime.timedelta(days=WEEKS*7)\n",
    "\n",
    "\n",
    "###############################################################\n",
    "# DO NOT CHANGE FROM HERE\n",
    "###############################################################\n",
    "\n",
    "# Get nice game date format: Saturday August 06, 2022\n",
    "GAME_DATE_START_TIMESTAMP = pd.to_datetime(GAME_DATE_START).tz_localize(TIMEZONE)\n",
    "GAME_DATE_END_TIMESTAMP = pd.to_datetime(GAME_DATE_END).tz_localize(TIMEZONE)\n",
    "\n",
    "GAME_DATE_START_NAME = utils.pretty_date(GAME_DATE_START_TIMESTAMP)\n",
    "GAME_DATE_END_NAME = utils.pretty_date(GAME_DATE_END_TIMESTAMP)\n",
    "\n",
    "# Create phq_club object\n",
    "phq_club = phq.PlayHQ(CLUB_NAME, ORG_ID, X_API_KEY, X_TENANT, TIMEZONE, tapp_team_name, tapp_game_name)\n",
    "season_id = phq_club.get_season_id(SEASON)\n",
    "\n",
    "print(f\"Club name: {CLUB_NAME} (org. id: {ORG_ID})\")\n",
    "print(f\"Season: {SEASON} (season id: {season_id})\")\n",
    "print(\"X-tenant:\", X_TENANT, \"x-api-key:\", X_API_KEY)\n",
    "print(\"Output path:\", OUTPUT_PATH)\n",
    "print(\"Timezone:\", TIMEZONE)\n",
    "print(f\"Game dates: {GAME_DATE_START_NAME} - {GAME_DATE_END_NAME}\")\n",
    "print(\"PlayHQ Club fixture:\", PLAYHQ_SEASON_URL)"
   ]
  },
  {
   "cell_type": "markdown",
   "metadata": {},
   "source": [
    "## 2. Get upcoming games for club's teams"
   ]
  },
  {
   "cell_type": "markdown",
   "metadata": {},
   "source": [
    "First, get the teams of the club, sort them based on age group."
   ]
  },
  {
   "cell_type": "code",
   "execution_count": 3,
   "metadata": {},
   "outputs": [
    {
     "name": "stdout",
     "output_type": "stream",
     "text": [
      "Found 30 teams: ['Coburg U12 Boys 1' 'Coburg U12 Boys 2' 'Coburg U12 Boys 3'\n",
      " 'Coburg U12 Boys 4' 'Coburg U12 Girls 1' 'Coburg U12 Girls 2'\n",
      " 'Coburg U12 Girls 3' 'Coburg U14 Girls 4' 'Coburg U14 Girls 2'\n",
      " 'Coburg U14 Girls 1' 'Coburg U14 Boys 5' 'Coburg U14 Girls 3'\n",
      " 'Coburg U14 Boys 3' 'Coburg U14 Boys 2' 'Coburg U14 Boys 1'\n",
      " 'Coburg U14 Boys 4' 'Coburg U16 Girls 4' 'Coburg U16 Girls 3'\n",
      " 'Coburg U16 Girls 2' 'Coburg U16 Girls 1' 'Coburg U16 Boys 5'\n",
      " 'Coburg U16 Boys 3' 'Coburg U16 Boys 2' 'Coburg U16 Boys 1'\n",
      " 'Coburg U16 Boys 4' 'Coburg U18 Boys 4' 'Coburg U18 Boys 1'\n",
      " 'Coburg U18 Boys 2' 'Coburg U18 Boys 3' 'Coburg U18 Girls 1']\n"
     ]
    }
   ],
   "source": [
    "teams_df = phq_club.get_season_teams(season_id)\n",
    "teams_df.sort_values('age', ascending=True, inplace=True)\n",
    "teams_df.reset_index(inplace=True, drop=True)\n",
    "\n",
    "teams = teams_df['name'].values\n",
    "print(f\"Found {len(teams)} teams:\", teams)\n",
    "\n",
    "# teams_df\n",
    "# teams_df.query(\"name == 'Coburg U12 Boys 1'\")"
   ]
  },
  {
   "cell_type": "markdown",
   "metadata": {},
   "source": [
    "Next, extract all games between the dates specified for these teams of the club."
   ]
  },
  {
   "cell_type": "code",
   "execution_count": 4,
   "metadata": {},
   "outputs": [
    {
     "name": "stderr",
     "output_type": "stream",
     "text": [
      "2022-11-12 07:22:45 INFO Games extracted for team: Coburg U12 Boys 1\n",
      "2022-11-12 07:22:46 INFO Games extracted for team: Coburg U12 Boys 2\n",
      "2022-11-12 07:22:46 INFO Games extracted for team: Coburg U12 Boys 3\n",
      "2022-11-12 07:22:46 INFO Games extracted for team: Coburg U12 Boys 4\n",
      "2022-11-12 07:22:46 INFO Games extracted for team: Coburg U12 Girls 1\n",
      "2022-11-12 07:22:47 INFO Games extracted for team: Coburg U12 Girls 2\n",
      "2022-11-12 07:22:47 INFO Games extracted for team: Coburg U12 Girls 3\n",
      "2022-11-12 07:22:48 INFO Games extracted for team: Coburg U14 Girls 4\n",
      "2022-11-12 07:22:48 INFO Games extracted for team: Coburg U14 Girls 2\n",
      "2022-11-12 07:22:48 INFO Games extracted for team: Coburg U14 Girls 1\n",
      "2022-11-12 07:22:49 INFO Games extracted for team: Coburg U14 Boys 5\n",
      "2022-11-12 07:22:49 INFO Games extracted for team: Coburg U14 Girls 3\n",
      "2022-11-12 07:22:50 INFO Games extracted for team: Coburg U14 Boys 3\n",
      "2022-11-12 07:22:50 INFO Games extracted for team: Coburg U14 Boys 2\n",
      "2022-11-12 07:22:51 INFO Games extracted for team: Coburg U14 Boys 1\n",
      "2022-11-12 07:22:51 INFO Games extracted for team: Coburg U14 Boys 4\n",
      "2022-11-12 07:22:51 INFO Games extracted for team: Coburg U16 Girls 4\n",
      "2022-11-12 07:22:52 INFO Games extracted for team: Coburg U16 Girls 3\n",
      "2022-11-12 07:22:52 INFO Games extracted for team: Coburg U16 Girls 2\n",
      "2022-11-12 07:22:52 INFO Games extracted for team: Coburg U16 Girls 1\n",
      "2022-11-12 07:22:53 INFO Games extracted for team: Coburg U16 Boys 5\n",
      "2022-11-12 07:22:53 INFO Games extracted for team: Coburg U16 Boys 3\n",
      "2022-11-12 07:22:53 INFO Games extracted for team: Coburg U16 Boys 2\n",
      "2022-11-12 07:22:53 INFO Games extracted for team: Coburg U16 Boys 1\n",
      "2022-11-12 07:22:54 INFO Games extracted for team: Coburg U16 Boys 4\n",
      "2022-11-12 07:22:54 INFO Games extracted for team: Coburg U18 Boys 4\n",
      "2022-11-12 07:22:54 INFO Games extracted for team: Coburg U18 Boys 1\n",
      "2022-11-12 07:22:54 INFO Games extracted for team: Coburg U18 Boys 2\n",
      "2022-11-12 07:22:55 INFO Games extracted for team: Coburg U18 Boys 3\n",
      "2022-11-12 07:22:55 INFO Games extracted for team: Coburg U18 Girls 1\n"
     ]
    },
    {
     "name": "stdout",
     "output_type": "stream",
     "text": [
      "There were 90 games extracted for game between Saturday November 12, 2022 (2022/11/12) and Saturday December 17, 2022 (2022/12/17)\n"
     ]
    }
   ],
   "source": [
    "upcoming_games_df = phq_club.get_games(teams_df, GAME_DATE_START_TIMESTAMP, GAME_DATE_END_TIMESTAMP)\n",
    "\n",
    "if upcoming_games_df is not None:\n",
    "    print(f'There were {upcoming_games_df.shape[0]} games extracted for game between {GAME_DATE_START_NAME} and {GAME_DATE_END_NAME}')\n",
    "    upcoming_games_df[phq.GAMES_COLS]\n",
    "else:\n",
    "    print(f'No games between {GAME_DATE_START_NAME} and {GAME_DATE_END_NAME}')"
   ]
  },
  {
   "cell_type": "code",
   "execution_count": 5,
   "metadata": {},
   "outputs": [
    {
     "data": {
      "text/html": [
       "\n",
       "        <iframe\n",
       "            width=\"100%\"\n",
       "            height=\"475\"\n",
       "            src=\"http://x1:40000/dtale/iframe/1\"\n",
       "            frameborder=\"0\"\n",
       "            allowfullscreen\n",
       "            \n",
       "        ></iframe>\n",
       "        "
      ],
      "text/plain": [
       "<IPython.lib.display.IFrame at 0x7fa5ad13d6c0>"
      ]
     },
     "metadata": {},
     "output_type": "display_data"
    },
    {
     "data": {
      "text/plain": []
     },
     "execution_count": 5,
     "metadata": {},
     "output_type": "execute_result"
    }
   ],
   "source": [
    "dtale.show(upcoming_games_df)"
   ]
  },
  {
   "cell_type": "markdown",
   "metadata": {},
   "source": [
    "## 3. Convert to TeamApp CSV format\n",
    "\n",
    "Next, we convert the PlayHQ upcoming games to Teams App format so we can produce a CSV file to be imported into Teams App.\n",
    "\n",
    "This process takes time as it processes game per game and even obtains short URL links for each game."
   ]
  },
  {
   "cell_type": "code",
   "execution_count": 6,
   "metadata": {},
   "outputs": [
    {
     "name": "stdout",
     "output_type": "stream",
     "text": [
      "Done computing the games for Teams App\n"
     ]
    }
   ],
   "source": [
    "games_tapps_df = phq_club.to_teamsapp_schedule(upcoming_games_df, desc_template=DESC_TAPP, game_duration=45)\n",
    "print(\"Done computing the games for Teams App\")\n",
    "\n",
    "# find out the game day if there is one day all teams play on only\n",
    "game_day = None\n",
    "single_game_day = (games_tapps_df['start_date'].drop_duplicates().size == 1)\n",
    "if single_game_day:\n",
    "    game_day = games_tapps_df.iloc[0]['start_date']\n",
    "    print(\"All games are in the following day:\", utils.pretty_date(game_day))"
   ]
  },
  {
   "cell_type": "markdown",
   "metadata": {},
   "source": [
    "Inspect how the description of one of the games will look like:"
   ]
  },
  {
   "cell_type": "code",
   "execution_count": 7,
   "metadata": {},
   "outputs": [
    {
     "data": {
      "text/html": [
       "\n",
       "        <iframe\n",
       "            width=\"100%\"\n",
       "            height=\"475\"\n",
       "            src=\"http://x1:40000/dtale/iframe/2\"\n",
       "            frameborder=\"0\"\n",
       "            allowfullscreen\n",
       "            \n",
       "        ></iframe>\n",
       "        "
      ],
      "text/plain": [
       "<IPython.lib.display.IFrame at 0x7fa5ad189900>"
      ]
     },
     "metadata": {},
     "output_type": "display_data"
    },
    {
     "data": {
      "text/plain": []
     },
     "execution_count": 7,
     "metadata": {},
     "output_type": "execute_result"
    }
   ],
   "source": [
    "# games_tapps_df.sample(3)\n",
    "dtale.show(games_tapps_df)"
   ]
  },
  {
   "cell_type": "code",
   "execution_count": 8,
   "metadata": {},
   "outputs": [
    {
     "name": "stdout",
     "output_type": "stream",
     "text": [
      "Description for: 12.1 Boys\n",
      "RSVP mandatory for the game.\n",
      "\n",
      "Opponent: Waverley U12 Boys 1\n",
      "Venue: Coburg Basketball Stadium (Court 1)\n",
      "Address: 25 Outlook Road, Coburg North \n",
      "Google Maps coord: https://maps.google.com/?q=(-37.73315,144.97684)\n",
      "\n",
      "- Please ensure you arrive early and ready.\n",
      "- Games will have 4x10 min quarters.\n",
      "- Each team needs to provide a scorer.\n",
      "- Teamsheet fees are $125 per team (VC fee are $150); TEAMPAY is the CBA required teamsheet payment method only.\n",
      "\n",
      "Check the game in PlayHQ: https://tinyurl.com/2398uogc\n",
      "Check the round in PlayHQ: https://tinyurl.com/277g2lsl\n",
      "Check all club's teams in PlayHQ: https://bit.ly/cba-vjbl23\n",
      "\n"
     ]
    }
   ],
   "source": [
    "# Inspect description game of one team\n",
    "team = \"12.1 Boys\"\n",
    "# team = \"U12 Boys Purple\"\n",
    "\n",
    "print(\"Description for:\", team)\n",
    "print(games_tapps_df.query(\"team_name == @team\")['description'].values[0])"
   ]
  },
  {
   "cell_type": "markdown",
   "metadata": {},
   "source": [
    "## 4. Append BYE games (if necessary)"
   ]
  },
  {
   "cell_type": "markdown",
   "metadata": {},
   "source": [
    "We generate BYE entries for TeamsAPP ***only*** if the games are played all in the same day."
   ]
  },
  {
   "cell_type": "code",
   "execution_count": 10,
   "metadata": {},
   "outputs": [
    {
     "name": "stdout",
     "output_type": "stream",
     "text": [
      "Games obtained are not on the same day, not computing BYE games...\n"
     ]
    },
    {
     "data": {
      "text/plain": [
       "False"
      ]
     },
     "execution_count": 10,
     "metadata": {},
     "output_type": "execute_result"
    }
   ],
   "source": [
    "bye_teams= False    # assume no bye games\n",
    "\n",
    "if game_day is not None:\n",
    "    game_day = games_tapps_df.iloc[0]['start_date']\n",
    "\n",
    "    # Extract the date of the round\n",
    "    # date = games_tapps_df.iloc[1]['start_date']\n",
    "    print(f\"Extract BYE games for games on {utils.pretty_date(game_day)}\")\n",
    "\n",
    "    playing_teams = upcoming_games_df['team_id'].tolist()\n",
    "    bye_teams = teams_df.loc[~teams_df['id'].isin(playing_teams)]['name'].tolist()\n",
    "    bye_teams = list(map(lambda x: re.search(\"U.*\", x).group(0), bye_teams))\n",
    "\n",
    "    if bye_teams:\n",
    "        games_bye_df = phq_club.build_teamsapp_bye_schedule(bye_teams, game_day, DESC_BYE_TAPP)\n",
    "        print(f\"Bye teams ({len(bye_teams)}): \", bye_teams)\n",
    "\n",
    "        games_tapps_df = pd.concat([games_tapps_df, games_bye_df])\n",
    "        games_tapps_df.drop_duplicates(inplace=True)\n",
    "        games_tapps_df.reset_index(inplace=True, drop=True)\n",
    "    else:\n",
    "        print(\"No BYE games this round...\")\n",
    "else:\n",
    "    print(\"Games obtained are not on the same day, not computing BYE games...\")\n",
    "\n",
    "(bye_teams and games_bye_df)"
   ]
  },
  {
   "cell_type": "markdown",
   "metadata": {},
   "source": [
    "## 5. Final review\n",
    "\n",
    "Finally, we report the games to be written into Schedule CSV file and **CHECKING THAT ALL IS GOOD TO GO!**\n",
    "\n",
    "Particularly, look for games that are schedule but **PENDING** and without all details (time or venue)."
   ]
  },
  {
   "cell_type": "code",
   "execution_count": 12,
   "metadata": {},
   "outputs": [
    {
     "data": {
      "text/html": [
       "<div>\n",
       "<style scoped>\n",
       "    .dataframe tbody tr th:only-of-type {\n",
       "        vertical-align: middle;\n",
       "    }\n",
       "\n",
       "    .dataframe tbody tr th {\n",
       "        vertical-align: top;\n",
       "    }\n",
       "\n",
       "    .dataframe thead th {\n",
       "        text-align: right;\n",
       "    }\n",
       "</style>\n",
       "<table border=\"1\" class=\"dataframe\">\n",
       "  <thead>\n",
       "    <tr style=\"text-align: right;\">\n",
       "      <th></th>\n",
       "      <th>event_name</th>\n",
       "      <th>team_name</th>\n",
       "      <th>opponent</th>\n",
       "      <th>start_date</th>\n",
       "      <th>start_time</th>\n",
       "      <th>venue</th>\n",
       "      <th>court</th>\n",
       "    </tr>\n",
       "  </thead>\n",
       "  <tbody>\n",
       "    <tr>\n",
       "      <th>0</th>\n",
       "      <td>Game 12.1 Boys - Round 1</td>\n",
       "      <td>12.1 Boys</td>\n",
       "      <td>Waverley U12 Boys 1</td>\n",
       "      <td>2022-11-18</td>\n",
       "      <td>18:40:00</td>\n",
       "      <td>Coburg Basketball Stadium</td>\n",
       "      <td>Court 1</td>\n",
       "    </tr>\n",
       "    <tr>\n",
       "      <th>1</th>\n",
       "      <td>Game 12.1 Boys - Round 2</td>\n",
       "      <td>12.1 Boys</td>\n",
       "      <td>Camberwell U12 Boys 1</td>\n",
       "      <td>2022-11-25</td>\n",
       "      <td>18:30:00</td>\n",
       "      <td>Balwyn High School</td>\n",
       "      <td>Court 3</td>\n",
       "    </tr>\n",
       "    <tr>\n",
       "      <th>2</th>\n",
       "      <td>Game 12.1 Boys - Round 3</td>\n",
       "      <td>12.1 Boys</td>\n",
       "      <td>Blackburn U12 Boys 1</td>\n",
       "      <td>2022-12-02</td>\n",
       "      <td>19:30:00</td>\n",
       "      <td>Boroondara Sports Complex</td>\n",
       "      <td>Court 4</td>\n",
       "    </tr>\n",
       "    <tr>\n",
       "      <th>3</th>\n",
       "      <td>Game 12.2 Boys - Round 1</td>\n",
       "      <td>12.2 Boys</td>\n",
       "      <td>Nunawading U12 Boys 3</td>\n",
       "      <td>2022-11-18</td>\n",
       "      <td>18:40:00</td>\n",
       "      <td>Coburg Basketball Stadium</td>\n",
       "      <td>Court 2</td>\n",
       "    </tr>\n",
       "    <tr>\n",
       "      <th>4</th>\n",
       "      <td>Game 12.2 Boys - Round 2</td>\n",
       "      <td>12.2 Boys</td>\n",
       "      <td>Diamond Valley U12 Boys 3</td>\n",
       "      <td>2022-11-25</td>\n",
       "      <td>18:40:00</td>\n",
       "      <td>Diamond Valley Sports and Fitness Centre</td>\n",
       "      <td>Court 2</td>\n",
       "    </tr>\n",
       "    <tr>\n",
       "      <th>...</th>\n",
       "      <td>...</td>\n",
       "      <td>...</td>\n",
       "      <td>...</td>\n",
       "      <td>...</td>\n",
       "      <td>...</td>\n",
       "      <td>...</td>\n",
       "      <td>...</td>\n",
       "    </tr>\n",
       "    <tr>\n",
       "      <th>85</th>\n",
       "      <td>Game 18.3 Boys - Round 2</td>\n",
       "      <td>18.3 Boys</td>\n",
       "      <td>Broadmeadows U18 Boys 3</td>\n",
       "      <td>2022-11-25</td>\n",
       "      <td>20:40:00</td>\n",
       "      <td>Coburg Basketball Stadium</td>\n",
       "      <td>Court 4</td>\n",
       "    </tr>\n",
       "    <tr>\n",
       "      <th>86</th>\n",
       "      <td>Game 18.3 Boys - Round 3</td>\n",
       "      <td>18.3 Boys</td>\n",
       "      <td>Geelong United U18 Boys 5</td>\n",
       "      <td>2022-12-02</td>\n",
       "      <td>21:40:00</td>\n",
       "      <td>AWA Alliance Bank Stadium</td>\n",
       "      <td>Court 3</td>\n",
       "    </tr>\n",
       "    <tr>\n",
       "      <th>87</th>\n",
       "      <td>Game 18.1 Girls - Round 1</td>\n",
       "      <td>18.1 Girls</td>\n",
       "      <td>Diamond Valley U18 Girls 3</td>\n",
       "      <td>2022-11-18</td>\n",
       "      <td>21:40:00</td>\n",
       "      <td>Coburg Basketball Stadium</td>\n",
       "      <td>Court 1</td>\n",
       "    </tr>\n",
       "    <tr>\n",
       "      <th>88</th>\n",
       "      <td>Game 18.1 Girls - Round 2</td>\n",
       "      <td>18.1 Girls</td>\n",
       "      <td>Wallan U18 Girls 1</td>\n",
       "      <td>2022-11-25</td>\n",
       "      <td>21:40:00</td>\n",
       "      <td>Mill Park Basketball Stadium</td>\n",
       "      <td>Court 2</td>\n",
       "    </tr>\n",
       "    <tr>\n",
       "      <th>89</th>\n",
       "      <td>Game 18.1 Girls - Round 3</td>\n",
       "      <td>18.1 Girls</td>\n",
       "      <td>Eltham U18 Girls 4</td>\n",
       "      <td>2022-12-02</td>\n",
       "      <td>21:40:00</td>\n",
       "      <td>Montmorency Secondary College Stadium</td>\n",
       "      <td>Court 2</td>\n",
       "    </tr>\n",
       "  </tbody>\n",
       "</table>\n",
       "<p>90 rows × 7 columns</p>\n",
       "</div>"
      ],
      "text/plain": [
       "                   event_name   team_name                    opponent  \\\n",
       "0    Game 12.1 Boys - Round 1   12.1 Boys         Waverley U12 Boys 1   \n",
       "1    Game 12.1 Boys - Round 2   12.1 Boys       Camberwell U12 Boys 1   \n",
       "2    Game 12.1 Boys - Round 3   12.1 Boys        Blackburn U12 Boys 1   \n",
       "3    Game 12.2 Boys - Round 1   12.2 Boys       Nunawading U12 Boys 3   \n",
       "4    Game 12.2 Boys - Round 2   12.2 Boys   Diamond Valley U12 Boys 3   \n",
       "..                        ...         ...                         ...   \n",
       "85   Game 18.3 Boys - Round 2   18.3 Boys     Broadmeadows U18 Boys 3   \n",
       "86   Game 18.3 Boys - Round 3   18.3 Boys   Geelong United U18 Boys 5   \n",
       "87  Game 18.1 Girls - Round 1  18.1 Girls  Diamond Valley U18 Girls 3   \n",
       "88  Game 18.1 Girls - Round 2  18.1 Girls          Wallan U18 Girls 1   \n",
       "89  Game 18.1 Girls - Round 3  18.1 Girls          Eltham U18 Girls 4   \n",
       "\n",
       "    start_date start_time                                     venue    court  \n",
       "0   2022-11-18   18:40:00                 Coburg Basketball Stadium  Court 1  \n",
       "1   2022-11-25   18:30:00                        Balwyn High School  Court 3  \n",
       "2   2022-12-02   19:30:00                 Boroondara Sports Complex  Court 4  \n",
       "3   2022-11-18   18:40:00                 Coburg Basketball Stadium  Court 2  \n",
       "4   2022-11-25   18:40:00  Diamond Valley Sports and Fitness Centre  Court 2  \n",
       "..         ...        ...                                       ...      ...  \n",
       "85  2022-11-25   20:40:00                 Coburg Basketball Stadium  Court 4  \n",
       "86  2022-12-02   21:40:00                 AWA Alliance Bank Stadium  Court 3  \n",
       "87  2022-11-18   21:40:00                 Coburg Basketball Stadium  Court 1  \n",
       "88  2022-11-25   21:40:00              Mill Park Basketball Stadium  Court 2  \n",
       "89  2022-12-02   21:40:00     Montmorency Secondary College Stadium  Court 2  \n",
       "\n",
       "[90 rows x 7 columns]"
      ]
     },
     "execution_count": 12,
     "metadata": {},
     "output_type": "execute_result"
    }
   ],
   "source": [
    "games_tapps_df.columns\n",
    "games_tapps_df[['event_name', 'team_name', 'opponent', 'start_date', 'start_time', 'venue', 'court']]\n",
    "# games_tapps_df"
   ]
  },
  {
   "cell_type": "markdown",
   "metadata": {},
   "source": [
    "We stop the execution here if we are running all Jupyter notebook."
   ]
  },
  {
   "cell_type": "code",
   "execution_count": null,
   "metadata": {},
   "outputs": [],
   "source": [
    "raise SystemExit(\"Stop right there! Continue below to produce the CSV file if needed.\")"
   ]
  },
  {
   "cell_type": "markdown",
   "metadata": {},
   "source": [
    "## 6. Save to CSV file for Teams App import\n",
    "\n",
    "OK we are ready to import into Teams App."
   ]
  },
  {
   "cell_type": "markdown",
   "metadata": {},
   "source": [
    "### 6.2. Check changes with previous saves\n",
    "\n",
    "If the schedule was generated before, check if the new one differs with the one saved already.\n",
    "\n",
    "First, let us define the files that we will save to disk."
   ]
  },
  {
   "cell_type": "code",
   "execution_count": 13,
   "metadata": {},
   "outputs": [
    {
     "name": "stdout",
     "output_type": "stream",
     "text": [
      "Files to save:\n",
      "CBA/fixture/schedule-teamsapp-2022_11_12-07:35:44.csv\n",
      "CBA/fixture/upcoming_games_df-2022_11_12-07:35:44.pkl\n",
      "CBA/fixture/games_tapps_df-2022_11_12-07:35:44.pkl\n"
     ]
    }
   ],
   "source": [
    "now = datetime.datetime.now() # current date and time\n",
    "now_str = now.strftime(\"%Y_%m_%d-%H:%M:%S\")\n",
    "\n",
    "id_file = now_str\n",
    "if game_day is not None:    # there is one date for all games!\n",
    "    id_file = utils.compact_date(game_day)\n",
    "\n",
    "file_csv = os.path.join(OUTPUT_PATH, f\"schedule-teamsapp-{id_file}.csv\")\n",
    "file_upcoming_pkl = os.path.join(OUTPUT_PATH, f\"upcoming_games_df-{id_file}.pkl\")\n",
    "file_games_tapps = os.path.join(OUTPUT_PATH, f\"games_tapps_df-{id_file}.pkl\")\n",
    "\n",
    "print(\"Files to save:\")\n",
    "print(file_csv)\n",
    "print(file_upcoming_pkl)\n",
    "print(file_games_tapps)"
   ]
  },
  {
   "cell_type": "markdown",
   "metadata": {},
   "source": [
    "Next, let's check if there was a saved file for the upcoming game day."
   ]
  },
  {
   "cell_type": "code",
   "execution_count": 14,
   "metadata": {},
   "outputs": [],
   "source": [
    "cols = ['team_name', 'opponent', 'start_date', 'start_time', 'venue', 'court']\n",
    "\n",
    "changed_games_df = None\n",
    "if os.path.exists(file_games_tapps):\n",
    "    print(\"There was already a schedule saved, recovering it to compare...\")\n",
    "    old_games_tapps_df = pd.read_pickle(file_games_tapps)\n",
    "\n",
    "    teams_changed = pd.concat([games_tapps_df[cols], old_games_tapps_df[cols]]).drop_duplicates(keep=False)['team_name'].unique()\n",
    "    print(\"Teams whose games have changed (updated, new, dropped):\", teams_changed)\n",
    "\n",
    "    old_games_df = old_games_tapps_df[cols].query(\"team_name in @teams_changed\")\n",
    "    new_games_df = games_tapps_df[cols].query(\"team_name in @teams_changed\")\n",
    "    changed_games_df = new_games_df.merge(old_games_df, how=\"inner\", on=\"team_name\", suffixes=('_new', '_old'))\n",
    "\n",
    "# Show changes if any...\n",
    "changed_games_df"
   ]
  },
  {
   "cell_type": "markdown",
   "metadata": {},
   "source": [
    "### 5.3. Write a TeamAPP Schedule CSV & Datafarmes Pickles\n",
    "\n",
    "Finally, we save the data to a CSV file that can be imported into the [SCHEDULE of TeamsApp for all Entries](https://brunswickmagicbasketball.teamapp.com/clubs/263995/events?_list=v1&team_id=all)."
   ]
  },
  {
   "cell_type": "code",
   "execution_count": 15,
   "metadata": {},
   "outputs": [
    {
     "name": "stdout",
     "output_type": "stream",
     "text": [
      "Saving TeamAPP schedule CSV file and Dataframes with id: 2022_11_12-07:35:44\n",
      "Saving CSV TeamApp schedule: CBA/fixture/schedule-teamsapp-2022_11_12-07:35:44.csv\n",
      "Saving dataframe pickle: CBA/fixture/upcoming_games_df-2022_11_12-07:35:44.pkl\n",
      "Saving dataframe pickle: CBA/fixture/games_tapps_df-2022_11_12-07:35:44.pkl\n",
      "Finished saving CSV and DATA-FRAMNE files: 12/11/2022, 07:35:44\n"
     ]
    }
   ],
   "source": [
    "import shutil\n",
    "\n",
    "print('Saving TeamAPP schedule CSV file and Dataframes with id:', id_file)\n",
    "for f in [file_csv, file_upcoming_pkl, file_games_tapps]:\n",
    "  if os.path.exists(f):\n",
    "    print(\"Backup file\", f)\n",
    "    shutil.copy(f, f + \".bak\")\n",
    "\n",
    "print('Saving CSV TeamApp schedule:', file_csv)\n",
    "games_tapps_df.to_csv(file_csv, index=False)\n",
    "\n",
    "print('Saving dataframe pickle:', file_upcoming_pkl)\n",
    "upcoming_games_df.to_pickle(file_upcoming_pkl)\n",
    "print('Saving dataframe pickle:', file_games_tapps)\n",
    "games_tapps_df.to_pickle(file_games_tapps)\n",
    "\n",
    "print(f\"Finished saving CSV and DATA-FRAMNE files: {now.strftime('%d/%m/%Y, %H:%M:%S')}\")"
   ]
  },
  {
   "cell_type": "markdown",
   "metadata": {},
   "source": [
    "# ------------ END FIXTURE PUBLISHING ------------"
   ]
  },
  {
   "cell_type": "markdown",
   "metadata": {},
   "source": [
    "### Check a particular team"
   ]
  },
  {
   "cell_type": "code",
   "execution_count": null,
   "metadata": {},
   "outputs": [],
   "source": [
    "team = \"U10 Girls Gold\"\n",
    "\n",
    "print(games_tapps_df.query(\"team_name == @team\")['description'].values[0])\n",
    "games_tapps_df.query(\"team_name == @team\")[['team_name', 'opponent', 'start_date', 'start_time', 'venue', 'court']]\n"
   ]
  }
 ],
 "metadata": {
  "kernelspec": {
   "display_name": "Python 3.10.6 ('p10')",
   "language": "python",
   "name": "python3"
  },
  "language_info": {
   "codemirror_mode": {
    "name": "ipython",
    "version": 3
   },
   "file_extension": ".py",
   "mimetype": "text/x-python",
   "name": "python",
   "nbconvert_exporter": "python",
   "pygments_lexer": "ipython3",
   "version": "3.10.6"
  },
  "vscode": {
   "interpreter": {
    "hash": "bba08d008a084c0b9f453daa67c429f78b2a7511c43dcbed9cf62fe0b7ddf753"
   }
  }
 },
 "nbformat": 4,
 "nbformat_minor": 2
}
