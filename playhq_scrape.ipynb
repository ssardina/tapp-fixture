{
 "cells": [
  {
   "attachments": {},
   "cell_type": "markdown",
   "metadata": {},
   "source": [
    "# PlayHQ Fixture Scraping\n",
    "\n",
    "[![Open In Colab](https://colab.research.google.com/assets/colab-badge.svg)](https://colab.research.google.com/github/ssardina/tapp-fixture/blob/main/playhq_scrape.ipynb)\n",
    "\n",
    "This system allows to scrape game fixtures from [PlayHQ](http://playhq.com/) via its Public [API](https://support.playhq.com/hc/en-au/sections/4405422358297-PlayHQ-APIs). It will produce a CSV file ready to be uploaded as Schedule in [TeamApp](https://brunswickmagicbasketball.teamapp.com/).\n",
    "\n",
    "The *Public* APIs only require a header parameters to get a successful response, which includes the following components:\n",
    "\n",
    "- `x-api-key` (also referred to as the Client ID) will be provided by PlayHQ when you request access to the public API via their [support page](https://support.playhq.com/hc/en-au) or email support@playhqsupport.zendesk.com. This key can be stored in a file `x_api_key.txt` or it will be asked interactively by the notebook otherwise. In many cases, the feature to create new API credentials is disabled for a user and can only be actioned by a Super Administrator role within the Play HQ portal.\n",
    "- `x-phq-tenant` usually refers to the sport/association - in this case '`bv`'.\n",
    "\n",
    "\n",
    "Detailed reference documentation for PlayHQ API can be found [here](https://docs.playhq.com/tech).\n",
    "\n",
    "**Contact:** Sebastian Sardina (sssardina@gmail.com)"
   ]
  },
  {
   "cell_type": "code",
   "execution_count": null,
   "metadata": {},
   "outputs": [],
   "source": [
    "# from IPython.core.interactiveshell import InteractiveShell\n",
    "# InteractiveShell.ast_node_interactivity = \"all\"\n",
    "import pandas as pd\n",
    "\n",
    "# from tqdm.notebook import tqdm    # for progress bar: https://github.com/tqdm/tqdm\n",
    "import re\n",
    "import os\n",
    "import calendar, datetime\n",
    "import dtale\n",
    "\n",
    "import utils\n",
    "import playhq as phq"
   ]
  },
  {
   "attachments": {},
   "cell_type": "markdown",
   "metadata": {},
   "source": [
    "## 1. Configuration and set-up\n",
    "\n",
    "We first configure and set-up the application. This means reading configuration variables from a config file and setting the game day.\n",
    "\n",
    "So, first of all, specify the following information:\n",
    "\n",
    "1. Configuration file for the club and season.\n",
    "2. Game dates interval to scrape."
   ]
  },
  {
   "cell_type": "code",
   "execution_count": null,
   "metadata": {},
   "outputs": [],
   "source": [
    "# Change this to import your club's own configuration\n",
    "# from config_bmc_w23 import *\n",
    "# from config_bmc_s23 import *\n",
    "# from config_bmc_w24 import *\n",
    "from config_cba_24 import *\n",
    "\n",
    "# Set the game date interval scrape\n",
    "GAME_DATE_START = datetime.date.today()  # by default, any game after today\n",
    "# GAME_DATE_START = utils.next_day(calendar.SATURDAY)   # start from next game day (used for Domestic)\n",
    "GAME_DATE_START = datetime.date(2024, 7, 12) # start on a specific day - (used for Rep - REP ROUND 5+)\n",
    "\n",
    "WEEKS = 10   # how many weeks after date start we want to scrape (use 1 for just next game)\n",
    "GAME_DATE_END = GAME_DATE_START + datetime.timedelta(days=WEEKS*7)\n",
    "\n",
    "\n",
    "###############################################################\n",
    "# DO NOT CHANGE FROM HERE\n",
    "###############################################################\n",
    "\n",
    "# Get nice game date format: Saturday August 06, 2022\n",
    "GAME_DATE_START_TIMESTAMP = pd.to_datetime(GAME_DATE_START).tz_localize(TIMEZONE)\n",
    "GAME_DATE_END_TIMESTAMP = pd.to_datetime(GAME_DATE_END).tz_localize(TIMEZONE)\n",
    "\n",
    "GAME_DATE_START_NAME = utils.pretty_date(GAME_DATE_START_TIMESTAMP)\n",
    "GAME_DATE_END_NAME = utils.pretty_date(GAME_DATE_END_TIMESTAMP)\n",
    "\n",
    "# Create phq_club object\n",
    "phq_club = phq.PlayHQ(CLUB_NAME, ORG_ID, X_API_KEY, X_TENANT, TIMEZONE, tapp_team_name, tapp_game_name)\n",
    "if SEASON_ID is None:\n",
    "    raise SystemExit(\"ERROR! Please specify either SEASON_ID.\")\n",
    "SEASON_NAME = phq_club.get_season_name(SEASON_ID)\n",
    "SEASON_COMPETITION = phq_club.get_season_competition(SEASON_ID)\n",
    "\n",
    "print(f\"Club name: {CLUB_NAME} (org. id: {ORG_ID[0:8]}****)\")\n",
    "print(f\"Season: {SEASON_NAME} (season id: {SEASON_ID})\")\n",
    "print(\"Season competition:\", SEASON_COMPETITION)\n",
    "print(\"X-tenant:\", X_TENANT, \"x-api-key:\", X_API_KEY[0:8]+\"****\")\n",
    "print(\"Output path:\", OUTPUT_PATH)\n",
    "if not os.path.exists(OUTPUT_PATH):\n",
    "    raise SystemExit(\"ERROR! Output path {OUTPUT_PATH} is missing! Please create or link that path correctly to save data.\")\n",
    "\n",
    "print(\"Timezone:\", TIMEZONE)\n",
    "print(f\"Game dates: {GAME_DATE_START_NAME} - {GAME_DATE_END_NAME}\")\n",
    "print(\"PlayHQ Club fixture:\", PLAYHQ_SEASON_URL)"
   ]
  },
  {
   "attachments": {},
   "cell_type": "markdown",
   "metadata": {},
   "source": [
    "## 2. Get upcoming games for club's teams"
   ]
  },
  {
   "attachments": {},
   "cell_type": "markdown",
   "metadata": {},
   "source": [
    "First, get the teams of the club, sort them based on age group."
   ]
  },
  {
   "cell_type": "code",
   "execution_count": null,
   "metadata": {},
   "outputs": [],
   "source": [
    "teams_df = phq_club.get_season_teams(SEASON_ID)\n",
    "teams_df.sort_values('age', ascending=True, inplace=True)\n",
    "teams_df.reset_index(inplace=True, drop=True)\n",
    "\n",
    "teams = teams_df['name'].values\n",
    "print(f\"Found {len(teams)} teams:\", teams)\n",
    "\n",
    "# teams_df"
   ]
  },
  {
   "cell_type": "markdown",
   "metadata": {},
   "source": [
    "Only use this if you want to filter the teams to extract to some of them."
   ]
  },
  {
   "cell_type": "code",
   "execution_count": null,
   "metadata": {},
   "outputs": [],
   "source": [
    "TEAMS_FILTER = None\n",
    "# TEAMS_FILTER = [\"Coburg U16 Boys 5\", \"Coburg U16 Boys 3\"]\n",
    "\n",
    "if TEAMS_FILTER is not None:\n",
    "    teams_df = teams_df.query(\"name in @TEAMS_FILTER\")\n",
    "    print(f\"Kept {len(teams_df['name'].values)} teams:\", teams_df['name'].values)\n",
    "else:\n",
    "    print(\"All teams selected.\")\n",
    "teams_df"
   ]
  },
  {
   "attachments": {},
   "cell_type": "markdown",
   "metadata": {},
   "source": [
    "Next, extract all games between the dates specified for these teams of the club."
   ]
  },
  {
   "cell_type": "code",
   "execution_count": null,
   "metadata": {},
   "outputs": [],
   "source": [
    "upcoming_games_df, team_errors = phq_club.get_games(teams_df, GAME_DATE_START_TIMESTAMP, GAME_DATE_END_TIMESTAMP)\n",
    "\n",
    "if upcoming_games_df is not None:\n",
    "    print(f'There were {upcoming_games_df.shape[0]} games extracted for game between {GAME_DATE_START_NAME} and {GAME_DATE_END_NAME}')\n",
    "    upcoming_games_df[phq.GAMES_COLS]\n",
    "else:\n",
    "    print(f'No games between {GAME_DATE_START_NAME} and {GAME_DATE_END_NAME}')\n",
    "\n",
    "if team_errors:\n",
    "    print(\"Team errors:\", team_errors)\n"
   ]
  },
  {
   "cell_type": "markdown",
   "metadata": {},
   "source": [
    "If in FINALS, there may be games scheduled for the following weekend, so they have no opponent yet.\n",
    "We now list them to check and then drop them as they are not yet actual games."
   ]
  },
  {
   "cell_type": "code",
   "execution_count": null,
   "metadata": {},
   "outputs": [],
   "source": [
    "# get the teams that have missing competitor and remove them from upcoming games\n",
    "mask_no_competitors = upcoming_games_df['competitors'].apply(lambda x: len(x) == 1)\n",
    "\n",
    "teams_pending_competitors = upcoming_games_df[mask_no_competitors].team_name.values\n",
    "upcoming_games_df.drop(upcoming_games_df[mask_no_competitors].index, inplace=True)\n",
    "\n",
    "print(\"Teams that have a pending competitor (finals?):\")\n",
    "teams_pending_competitors"
   ]
  },
  {
   "cell_type": "markdown",
   "metadata": {},
   "source": [
    "Show final upcoming games before converting to TeamApps."
   ]
  },
  {
   "cell_type": "code",
   "execution_count": null,
   "metadata": {},
   "outputs": [],
   "source": [
    "# dtale.show(upcoming_games_df)\n",
    "print(\"No of upcoming games:\", upcoming_games_df.shape[0])\n",
    "\n",
    "upcoming_games_df"
   ]
  },
  {
   "cell_type": "code",
   "execution_count": null,
   "metadata": {},
   "outputs": [],
   "source": [
    "# upcoming_games_df.query(\"team_name == 'Magic U14 Boys Diamond'\")\n",
    "# upcoming_games_df.loc[upcoming_games_df.team_name == 'Magic U12 Girls White']\n",
    "# upcoming_games_df.iloc[0,:]\n",
    "\n",
    "upcoming_games_df.query(\"team_name == 'Coburg U14 Girls 5'\")"
   ]
  },
  {
   "attachments": {},
   "cell_type": "markdown",
   "metadata": {},
   "source": [
    "## 3. Convert to TeamApp CSV format\n",
    "\n",
    "Next, we convert the PlayHQ upcoming games to Teams App format so we can produce a CSV file to be imported into Teams App.\n",
    "\n",
    "This process takes time as it processes game per game and even obtains short URL links for each game."
   ]
  },
  {
   "cell_type": "code",
   "execution_count": null,
   "metadata": {},
   "outputs": [],
   "source": [
    "if upcoming_games_df is None:\n",
    "    raise SystemExit(\"There are no games to process. Exiting.\")\n",
    "\n",
    "games_tapps_df = phq_club.to_teamsapp_schedule(upcoming_games_df, desc_template=DESC_TAPP, game_duration=45)\n",
    "print(\"Done computing the games for Teams App\")\n",
    "\n",
    "# find out the game day if there is one day all teams play on only\n",
    "game_day = None\n",
    "single_game_day = (games_tapps_df['start_date'].drop_duplicates().size == 1)\n",
    "if single_game_day:\n",
    "    game_day = games_tapps_df.iloc[0]['start_date']\n",
    "    print(\"All games are in the following day:\", utils.pretty_date(game_day))"
   ]
  },
  {
   "attachments": {},
   "cell_type": "markdown",
   "metadata": {},
   "source": [
    "Inspect how the description of one of the games will look like:"
   ]
  },
  {
   "cell_type": "code",
   "execution_count": null,
   "metadata": {},
   "outputs": [],
   "source": [
    "# games_tapps_df.sample(3)\n",
    "# dtale.show(games_tapps_df)\n",
    "games_tapps_df"
   ]
  },
  {
   "attachments": {},
   "cell_type": "markdown",
   "metadata": {},
   "source": [
    "Keep games after a particular date:"
   ]
  },
  {
   "cell_type": "code",
   "execution_count": null,
   "metadata": {},
   "outputs": [],
   "source": [
    "import datetime\n",
    "\n",
    "START_DATE = None\n",
    "# START_DATE = datetime.date(2023, 7, 21)\n",
    "\n",
    "if START_DATE is not None:\n",
    "    print(\"Keeping games after:\", START_DATE)\n",
    "    games_tapps_df[games_tapps_df['start_date'] > START_DATE]\n",
    "    games_tapps_df = games_tapps_df[games_tapps_df['start_date'] > START_DATE]\n",
    "else:\n",
    "    print(\"Keeping all games\")\n",
    "games_tapps_df"
   ]
  },
  {
   "cell_type": "code",
   "execution_count": null,
   "metadata": {},
   "outputs": [],
   "source": [
    "# Inspect description game of one team\n",
    "# team = \"12.2 Boys\"\n",
    "team = \"U14 Boys Silver\"\n",
    "\n",
    "print(\"Description for:\", team)\n",
    "print(games_tapps_df.query(\"team_name == @team\")['description'].values[0])"
   ]
  },
  {
   "attachments": {},
   "cell_type": "markdown",
   "metadata": {},
   "source": [
    "## 4. Append BYE games (if necessary)"
   ]
  },
  {
   "attachments": {},
   "cell_type": "markdown",
   "metadata": {},
   "source": [
    "We generate BYE entries for TeamsAPP ***only*** if the games are played all in the same day."
   ]
  },
  {
   "cell_type": "code",
   "execution_count": null,
   "metadata": {},
   "outputs": [],
   "source": [
    "days_games = games_tapps_df['start_date'].drop_duplicates().values\n",
    "\n",
    "if len(days_games) == 1:\n",
    "    game_day = days_games[0]\n",
    "    print(\"Seems all games are played on the same day:\", game_day)\n"
   ]
  },
  {
   "cell_type": "code",
   "execution_count": null,
   "metadata": {},
   "outputs": [],
   "source": [
    "bye_teams= False    # assume no bye games\n",
    "\n",
    "if game_day is not None:\n",
    "    game_day = games_tapps_df.iloc[0]['start_date']\n",
    "\n",
    "    # Extract the date of the round\n",
    "    # date = games_tapps_df.iloc[1]['start_date']\n",
    "    print(f\"Extract BYE games for games on {utils.pretty_date(game_day)}\")\n",
    "\n",
    "    playing_teams = upcoming_games_df['team_id'].tolist()\n",
    "    bye_teams = teams_df.loc[~teams_df['id'].isin(playing_teams)]['name'].tolist()\n",
    "    bye_teams = list(map(lambda x: tapp_team_name(x), bye_teams))\n",
    "\n",
    "    if bye_teams:\n",
    "        games_bye_df = phq_club.build_teamsapp_bye_schedule(bye_teams, game_day, DESC_BYE_TAPP)\n",
    "        print(f\"Bye teams ({len(bye_teams)}): \", bye_teams)\n",
    "\n",
    "        games_tapps_df = pd.concat([games_tapps_df, games_bye_df])\n",
    "        games_tapps_df.drop_duplicates(inplace=True)\n",
    "        games_tapps_df.reset_index(inplace=True, drop=True)\n",
    "    else:\n",
    "        print(\"No BYE games this round...\")\n",
    "else:\n",
    "    print(\"Games obtained are not on the same day, not computing BYE games...\")\n",
    "\n",
    "(bye_teams and games_bye_df)"
   ]
  },
  {
   "attachments": {},
   "cell_type": "markdown",
   "metadata": {},
   "source": [
    "## 5. Final review\n",
    "\n",
    "Finally, we report the games to be written into Schedule CSV file and **CHECKING THAT ALL IS GOOD TO GO!**\n",
    "\n",
    "Particularly, look for games that are schedule but **PENDING** and without all details (time or venue)."
   ]
  },
  {
   "cell_type": "code",
   "execution_count": null,
   "metadata": {},
   "outputs": [],
   "source": [
    "games_tapps_df.columns\n",
    "games_tapps_df[['event_name', 'team_name', 'opponent', 'start_date', 'start_time', 'venue', 'court']]\n",
    "# games_tapps_df"
   ]
  },
  {
   "attachments": {},
   "cell_type": "markdown",
   "metadata": {},
   "source": [
    "We stop the execution here if we are running all Jupyter notebook."
   ]
  },
  {
   "cell_type": "code",
   "execution_count": null,
   "metadata": {},
   "outputs": [],
   "source": [
    "raise SystemExit(\"Stop right there! Continue below to produce the CSV file if needed.\")"
   ]
  },
  {
   "attachments": {},
   "cell_type": "markdown",
   "metadata": {},
   "source": [
    "## 6. Save to CSV file for Teams App import\n",
    "\n",
    "OK we are ready to import into Teams App."
   ]
  },
  {
   "attachments": {},
   "cell_type": "markdown",
   "metadata": {},
   "source": [
    "### 6.2. Check changes with previous saves\n",
    "\n",
    "If the schedule was generated before, check if the new one differs with the one saved already.\n",
    "\n",
    "First, let us define the files that we will save to disk."
   ]
  },
  {
   "cell_type": "code",
   "execution_count": null,
   "metadata": {},
   "outputs": [],
   "source": [
    "now = datetime.datetime.now() # current date and time\n",
    "now_str = now.strftime(\"%Y_%m_%d-%H:%M:%S\")\n",
    "\n",
    "id_file = now_str\n",
    "if game_day is not None:    # there is one date for all games!\n",
    "    id_file = utils.compact_date(game_day)\n",
    "\n",
    "file_csv = os.path.join(OUTPUT_PATH, f\"schedule-teamsapp-{id_file}.csv\")\n",
    "file_upcoming_pkl = os.path.join(OUTPUT_PATH, f\"upcoming_games_df-{id_file}.pkl\")\n",
    "file_games_tapps = os.path.join(OUTPUT_PATH, f\"games_tapps_df-{id_file}.pkl\")\n",
    "\n",
    "print(\"Files to save:\")\n",
    "print(file_csv)\n",
    "print(file_upcoming_pkl)\n",
    "print(file_games_tapps)\n",
    "\n",
    "if not os.path.exists(OUTPUT_PATH):\n",
    "    raise SystemExit(\"ERROR! Output path {OUTPUT_PATH} is missing! Please create or link that path correctly to save data.\")"
   ]
  },
  {
   "attachments": {},
   "cell_type": "markdown",
   "metadata": {},
   "source": [
    "Next, let's check if there was a saved file for the upcoming game day."
   ]
  },
  {
   "cell_type": "code",
   "execution_count": null,
   "metadata": {},
   "outputs": [],
   "source": [
    "cols = ['team_name', 'opponent', 'start_date', 'start_time', 'venue', 'court']\n",
    "\n",
    "changed_games_df = None\n",
    "if os.path.exists(file_games_tapps):\n",
    "    print(\"There was already a schedule saved, recovering it to compare...\")\n",
    "    old_games_tapps_df = pd.read_pickle(file_games_tapps)\n",
    "\n",
    "    teams_changed = pd.concat([games_tapps_df[cols], old_games_tapps_df[cols]]).drop_duplicates(keep=False)['team_name'].unique()\n",
    "    print(\"Teams whose games have changed (updated, new, dropped):\", teams_changed)\n",
    "\n",
    "    old_games_df = old_games_tapps_df[cols].query(\"team_name in @teams_changed\")\n",
    "    new_games_df = games_tapps_df[cols].query(\"team_name in @teams_changed\")\n",
    "    changed_games_df = new_games_df.merge(old_games_df, how=\"inner\", on=\"team_name\", suffixes=('_new', '_old'))\n",
    "else:\n",
    "    print(\"No previous schedule saved\")\n",
    "\n",
    "# Show changes if any...\n",
    "changed_games_df"
   ]
  },
  {
   "attachments": {},
   "cell_type": "markdown",
   "metadata": {},
   "source": [
    "### 5.3. Write a TeamAPP Schedule CSV & Datafarmes Pickles\n",
    "\n",
    "Finally, we save the data to a CSV file that can be imported into the [SCHEDULE of TeamsApp for all Entries](https://brunswickmagicbasketball.teamapp.com/clubs/263995/events?_list=v1&team_id=all)."
   ]
  },
  {
   "cell_type": "code",
   "execution_count": null,
   "metadata": {},
   "outputs": [],
   "source": [
    "import shutil\n",
    "\n",
    "print('Saving TeamAPP schedule CSV file and Dataframes with id:', id_file)\n",
    "for f in [file_csv, file_upcoming_pkl, file_games_tapps]:\n",
    "  if os.path.exists(f):\n",
    "    print(\"Backup file\", f)\n",
    "    shutil.copy(f, f + \".bak\")\n",
    "\n",
    "print('Saving CSV TeamApp schedule:', file_csv)\n",
    "games_tapps_df.to_csv(file_csv, index=False)\n",
    "\n",
    "print('Saving dataframe pickle:', file_upcoming_pkl)\n",
    "upcoming_games_df.to_pickle(file_upcoming_pkl)\n",
    "print('Saving dataframe pickle:', file_games_tapps)\n",
    "games_tapps_df.to_pickle(file_games_tapps)\n",
    "\n",
    "print(f\"Finished saving CSV and DATA-FRAMNE files: {now.strftime('%d/%m/%Y, %H:%M:%S')}\")"
   ]
  },
  {
   "attachments": {},
   "cell_type": "markdown",
   "metadata": {},
   "source": [
    "# ------------ END FIXTURE PUBLISHING ------------"
   ]
  },
  {
   "attachments": {},
   "cell_type": "markdown",
   "metadata": {},
   "source": [
    "### Check a particular team"
   ]
  },
  {
   "cell_type": "code",
   "execution_count": null,
   "metadata": {},
   "outputs": [],
   "source": [
    "team = \"U10 Girls Gold\"\n",
    "\n",
    "print(games_tapps_df.query(\"team_name == @team\")['description'].values[0])\n",
    "games_tapps_df.query(\"team_name == @team\")[['team_name', 'opponent', 'start_date', 'start_time', 'venue', 'court']]\n"
   ]
  }
 ],
 "metadata": {
  "kernelspec": {
   "display_name": "Python 3 (ipykernel)",
   "language": "python",
   "name": "python3"
  },
  "language_info": {
   "codemirror_mode": {
    "name": "ipython",
    "version": 3
   },
   "file_extension": ".py",
   "mimetype": "text/x-python",
   "name": "python",
   "nbconvert_exporter": "python",
   "pygments_lexer": "ipython3",
   "version": "3.10.12"
  },
  "vscode": {
   "interpreter": {
    "hash": "767d51c1340bd893661ea55ea3124f6de3c7a262a8b4abca0554b478b1e2ff90"
   }
  }
 },
 "nbformat": 4,
 "nbformat_minor": 2
}
