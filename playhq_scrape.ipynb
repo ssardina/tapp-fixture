{
 "cells": [
  {
   "cell_type": "markdown",
   "metadata": {},
   "source": [
    "# PlayHQ Fixture Scraping\n",
    "\n",
    "[![Open In Colab](https://colab.research.google.com/assets/colab-badge.svg)](https://colab.research.google.com/github/ssardina/tapp-fixture/blob/main/playhq_scrape.ipynb)\n",
    "\n",
    "This system allows to scrape game fixtures from [PlayHQ](http://playhq.com/) via its Public [API](https://support.playhq.com/hc/en-au/sections/4405422358297-PlayHQ-APIs). It will produce a CSV file ready to be uploaded as Schedule in [TeamApp](https://brunswickmagicbasketball.teamapp.com/).\n",
    "\n",
    "The *Public* APIs only require a header parameters to get a successful response, which includes the following components:\n",
    "\n",
    "- `x-api-key` (also referred to as the Client ID) will be provided by PlayHQ when you request access to the public API via their [support page](https://support.playhq.com/hc/en-au) or email support@playhqsupport.zendesk.com. This key can be stored in a file `x_api_key.txt` or it will be asked interactively by the notebook otherwise. In many cases, the feature to create new API credentials is disabled for a user and can only be actioned by a Super Administrator role within the Play HQ portal.\n",
    "- `x-phq-tenant` usually refers to the sport/association - in this case '`bv`'.\n",
    "\n",
    "\n",
    "Detailed reference documentation for PlayHQ API can be found [here](https://docs.playhq.com/tech).\n",
    "\n",
    "**Contact:** Sebastian Sardina (sssardina@gmail.com)"
   ]
  },
  {
   "cell_type": "code",
   "execution_count": 1,
   "metadata": {},
   "outputs": [],
   "source": [
    "# from IPython.core.interactiveshell import InteractiveShell\n",
    "# InteractiveShell.ast_node_interactivity = \"all\"\n",
    "import pandas as pd\n",
    "import re\n",
    "import os\n",
    "import calendar, datetime\n",
    "import configparser\n",
    "\n",
    "# Set-up everything if running in Google Colab\n",
    "if \"COLAB_GPU\" in os.environ:\n",
    "  %pip install pyshorteners\n",
    "  %pip install coloredlogs\n",
    "  for f in ['utils.py', 'playhq.py']:\n",
    "    if not os.path.exists(f):\n",
    "      !wget \"https://raw.githubusercontent.com/ssardina/tapp-fixture/main/{f}\"\n",
    "\n",
    "import utils\n",
    "import playhq as phq"
   ]
  },
  {
   "cell_type": "markdown",
   "metadata": {},
   "source": [
    "## 1. Configuration and set-up\n",
    "\n",
    "We first configure and set-up the application. This means reading configuration variables from a config file and setting the game day.\n",
    "\n",
    "So, first of all, we specify:\n",
    "\n",
    "1. Configuration file for the club and season.\n",
    "2. Game date to scrape."
   ]
  },
  {
   "cell_type": "code",
   "execution_count": 2,
   "metadata": {},
   "outputs": [],
   "source": [
    "CONFIG_FILE = 'config_bmc.cfg'\n",
    "# CONFIG_FILE = 'config_cba.cfg'\n",
    "\n",
    "# set the game date\n",
    "GAME_DATE = utils.next_day(calendar.SATURDAY)\n",
    "# GAME_DATE = datetime.date(2022, 8, 27)"
   ]
  },
  {
   "cell_type": "code",
   "execution_count": 3,
   "metadata": {},
   "outputs": [
    {
     "ename": "TypeError",
     "evalue": "tuple indices must be integers or slices, not str",
     "output_type": "error",
     "traceback": [
      "\u001b[0;31m---------------------------------------------------------------------------\u001b[0m",
      "\u001b[0;31mTypeError\u001b[0m                                 Traceback (most recent call last)",
      "\u001b[1;32m/home/ssardina/git/data-science/tapp-fixture.git/playhq_scrape.ipynb Cell 5\u001b[0m in \u001b[0;36m<cell line: 21>\u001b[0;34m()\u001b[0m\n\u001b[1;32m     <a href='vscode-notebook-cell:/home/ssardina/git/data-science/tapp-fixture.git/playhq_scrape.ipynb#W3sZmlsZQ%3D%3D?line=17'>18</a>\u001b[0m \u001b[39m# Create phq_club object\u001b[39;00m\n\u001b[1;32m     <a href='vscode-notebook-cell:/home/ssardina/git/data-science/tapp-fixture.git/playhq_scrape.ipynb#W3sZmlsZQ%3D%3D?line=18'>19</a>\u001b[0m phq_club \u001b[39m=\u001b[39m phq\u001b[39m.\u001b[39mPlayHQ(CLUB_NAME, ORG_ID, X_API_KEY, X_TENANT, TIMEZONE)\n\u001b[0;32m---> <a href='vscode-notebook-cell:/home/ssardina/git/data-science/tapp-fixture.git/playhq_scrape.ipynb#W3sZmlsZQ%3D%3D?line=20'>21</a>\u001b[0m season_id \u001b[39m=\u001b[39m phq_club\u001b[39m.\u001b[39;49mget_season_id(SEASON)\n\u001b[1;32m     <a href='vscode-notebook-cell:/home/ssardina/git/data-science/tapp-fixture.git/playhq_scrape.ipynb#W3sZmlsZQ%3D%3D?line=21'>22</a>\u001b[0m PLAYHQ_GAMES_URL \u001b[39m=\u001b[39m \u001b[39mf\u001b[39m\u001b[39m\"\u001b[39m\u001b[39mhttps://bv.playhq.com/org/\u001b[39m\u001b[39m{\u001b[39;00mORG_ID\u001b[39m}\u001b[39;00m\u001b[39m/games?date=\u001b[39m\u001b[39m{\u001b[39;00mGAME_DATE_TIMESTAMP\u001b[39m.\u001b[39mstrftime(\u001b[39m'\u001b[39m\u001b[39m%\u001b[39m\u001b[39mY-\u001b[39m\u001b[39m%\u001b[39m\u001b[39mm-\u001b[39m\u001b[39m%d\u001b[39;00m\u001b[39m'\u001b[39m)\u001b[39m}\u001b[39;00m\u001b[39m\"\u001b[39m\n\u001b[1;32m     <a href='vscode-notebook-cell:/home/ssardina/git/data-science/tapp-fixture.git/playhq_scrape.ipynb#W3sZmlsZQ%3D%3D?line=23'>24</a>\u001b[0m \u001b[39mprint\u001b[39m(\u001b[39mf\u001b[39m\u001b[39m\"\u001b[39m\u001b[39mSections in file \u001b[39m\u001b[39m{\u001b[39;00mCONFIG_FILE\u001b[39m}\u001b[39;00m\u001b[39m:\u001b[39m\u001b[39m\"\u001b[39m, config\u001b[39m.\u001b[39msections())\n",
      "File \u001b[0;32m~/git/data-science/tapp-fixture.git/playhq.py:73\u001b[0m, in \u001b[0;36mPlayHQ.get_season_id\u001b[0;34m(self, season)\u001b[0m\n\u001b[1;32m     71\u001b[0m season_id \u001b[39m=\u001b[39m \u001b[39mNone\u001b[39;00m\n\u001b[1;32m     72\u001b[0m competition_id \u001b[39m=\u001b[39m \u001b[39mNone\u001b[39;00m\n\u001b[0;32m---> 73\u001b[0m \u001b[39mfor\u001b[39;00m x \u001b[39min\u001b[39;00m data_json[\u001b[39m'\u001b[39;49m\u001b[39mdata\u001b[39;49m\u001b[39m'\u001b[39;49m]:\n\u001b[1;32m     74\u001b[0m     \u001b[39mif\u001b[39;00m x[\u001b[39m'\u001b[39m\u001b[39mname\u001b[39m\u001b[39m'\u001b[39m] \u001b[39m==\u001b[39m season:\n\u001b[1;32m     75\u001b[0m         season_id \u001b[39m=\u001b[39m x[\u001b[39m'\u001b[39m\u001b[39mid\u001b[39m\u001b[39m'\u001b[39m]\n",
      "\u001b[0;31mTypeError\u001b[0m: tuple indices must be integers or slices, not str"
     ]
    }
   ],
   "source": [
    "config = configparser.ConfigParser()\n",
    "config.read(CONFIG_FILE)\n",
    "\n",
    "CLUB_NAME = config.get('main','CLUB_NAME')\n",
    "TIMEZONE = config.get('main','TIMEZONE')\n",
    "SEASON = config.get('main','SEASON')\n",
    "OUTPUT_PATH = config.get('main','OUTPUT_PATH')\n",
    "\n",
    "ORG_ID = config.get('playhq','ORG_ID')\n",
    "X_TENANT = config.get('playhq','X_TENANT')\n",
    "X_API_KEY = config.get('playhq','X_API_KEY')\n",
    "PLAYHQ_SEASON_URL = config.get('playhq', 'PLAYHQ_SEASON_URL')\n",
    "\n",
    "# Get nice game date format: Saturday August 06, 2022\n",
    "GAME_DATE_TIMESTAMP = pd.to_datetime(GAME_DATE).tz_localize(TIMEZONE)\n",
    "GAME_DATE_NAME = GAME_DATE_TIMESTAMP.strftime(\"%A %B %d, %Y (%Y/%m/%d)\")\n",
    "\n",
    "# Create phq_club object\n",
    "phq_club = phq.PlayHQ(CLUB_NAME, ORG_ID, X_API_KEY, X_TENANT, TIMEZONE)\n",
    "\n",
    "season_id = phq_club.get_season_id(SEASON)\n",
    "PLAYHQ_GAMES_URL = f\"https://bv.playhq.com/org/{ORG_ID}/games?date={GAME_DATE_TIMESTAMP.strftime('%Y-%m-%d')}\"\n",
    "\n",
    "print(f\"Sections in file {CONFIG_FILE}:\", config.sections())\n",
    "\n",
    "print(f\"Club name: {CLUB_NAME} (org. id: {ORG_ID})\")\n",
    "print(f\"Season: {SEASON} (season id: {season_id})\")\n",
    "print(\"X-tenant:\", X_TENANT, \"x-api-key:\", X_API_KEY)\n",
    "print(\"Output path:\", OUTPUT_PATH)\n",
    "print(f\"Game date: {GAME_DATE_NAME} - Timezone: {TIMEZONE}\")\n",
    "\n",
    "print()\n",
    "print(\"PlayHQ Club fixture:\", PLAYHQ_SEASON_URL)\n",
    "print(\"PlayHQ Admin games:\", PLAYHQ_GAMES_URL)"
   ]
  },
  {
   "cell_type": "markdown",
   "metadata": {},
   "source": [
    "Next configure some variables that will be used later on when generating schedules."
   ]
  },
  {
   "cell_type": "code",
   "execution_count": null,
   "metadata": {},
   "outputs": [],
   "source": [
    "DESC_BYE_TAPP = \"Sorry, no game for the team in this round.\"\n",
    "DESC_TAPP = \"\"\"RSVP mandatory for the game.\n",
    "\n",
    "Opponent: {opponent}\n",
    "Venue: {venue} ({court})\n",
    "Address: {address} {address_tips}\n",
    "Google Maps coord: https://maps.google.com/?q={coord}\n",
    "\n",
    "- Please ensure you arrive early and ready.\n",
    "- Remember that shorts should have no pockets, players should not wear bracelets/watch as it is a risk of injury.\n",
    "- No food in the venue and pickup your rubbish.\n",
    "- Games will have 2x20 min halves.\n",
    "- Each team needs to provide a scorer. TMs, please consider a roster.\n",
    "- Players should not bring balls into the venue - game balls provided by Magic in coach's equipment bag.\n",
    "- Beginners refs will be wearing green shirts. Please support and respect them through a POSITIVE sideline behaviour.\n",
    "\n",
    "Check the game in PlayHQ: {url_game}\n",
    "Check the round in PlayHQ: {url_grade}\n",
    "All clubs in PlayHQ: PLAYHQ_SEASON_URL\n",
    "\"\"\".replace(\"PLAYHQ_SEASON_URL\", PLAYHQ_SEASON_URL)"
   ]
  },
  {
   "cell_type": "markdown",
   "metadata": {},
   "source": [
    "## 2. Get upcoming games for club's teams"
   ]
  },
  {
   "cell_type": "markdown",
   "metadata": {},
   "source": [
    "First, get the teams of the club."
   ]
  },
  {
   "cell_type": "code",
   "execution_count": null,
   "metadata": {},
   "outputs": [],
   "source": [
    "teams_df = phq_club.get_season_teams(season_id)\n",
    "teams_df"
   ]
  },
  {
   "cell_type": "markdown",
   "metadata": {},
   "source": [
    "Next, extract all upcoming games for these teams of the club."
   ]
  },
  {
   "cell_type": "code",
   "execution_count": null,
   "metadata": {},
   "outputs": [],
   "source": [
    "upcoming_games_df = phq_club.get_games(teams_df, GAME_DATE_TIMESTAMP)\n",
    "\n",
    "if upcoming_games_df is not None:\n",
    "    print(f'There were {upcoming_games_df.shape[0]} games extracted for game day: {GAME_DATE_NAME}')\n",
    "    upcoming_games_df[phq.GAMES_COLS]\n",
    "else:\n",
    "    print(\"No games for date: \", GAME_DATE_NAME)"
   ]
  },
  {
   "cell_type": "markdown",
   "metadata": {},
   "source": [
    "## 3. Convert to TeamApp CSV format\n",
    "\n",
    "Next, we convert the PlayHQ upcoming games to Teams App format so we can produce a CSV file to be imported into Teams App."
   ]
  },
  {
   "cell_type": "code",
   "execution_count": null,
   "metadata": {},
   "outputs": [],
   "source": [
    "games_tapps_df = utils.to_teamsapp_schedule(upcoming_games_df, desc_template=DESC_TAPP, game_duration=45)\n",
    "print(\"Done computing the games for Teams App\")\n",
    "\n",
    "games_tapps_df.sample(3)"
   ]
  },
  {
   "cell_type": "markdown",
   "metadata": {},
   "source": [
    "Inspect how the description of one of the games will look like:"
   ]
  },
  {
   "cell_type": "code",
   "execution_count": null,
   "metadata": {},
   "outputs": [],
   "source": [
    "# Inspect description game of one team\n",
    "team = \"U16 Boys Diamond\"\n",
    "\n",
    "print(\"Description for:\", team)\n",
    "print(games_tapps_df.query(\"team_name == @team\")['description'].values[0])"
   ]
  },
  {
   "cell_type": "markdown",
   "metadata": {},
   "source": [
    "### Extract BYE games"
   ]
  },
  {
   "cell_type": "markdown",
   "metadata": {},
   "source": [
    "We now extract the teams for which we couldn't scrape a game. In most cases this means a BYE for those teams."
   ]
  },
  {
   "cell_type": "code",
   "execution_count": null,
   "metadata": {},
   "outputs": [],
   "source": [
    "# Extract the date of the round\n",
    "# date = team_apps_csv_df.iloc[1]['start_date']\n",
    "print(f\"Extract BYE games for games on {GAME_DATE_NAME}\")\n",
    "\n",
    "playing_teams = upcoming_games_df['team_id'].tolist()\n",
    "bye_teams = teams_df.loc[~teams_df['id'].isin(playing_teams)]['name'].tolist()\n",
    "bye_teams = list(map(lambda x: re.search(\"U.*\", x).group(0), bye_teams))\n",
    "\n",
    "if bye_teams:\n",
    "    games_bye_df = utils.build_teamsapp_bye_schedule(bye_teams, GAME_DATE, DESC_BYE_TAPP)\n",
    "    print(f\"Bye teams ({len(bye_teams)}): \", bye_teams)\n",
    "else:\n",
    "    print(\"No BYE games this round...\")"
   ]
  },
  {
   "cell_type": "markdown",
   "metadata": {},
   "source": [
    "Finally, put together upcoming games and BYE games in a single table that will later be used to produce a CSV for TeamApp schedule import."
   ]
  },
  {
   "cell_type": "code",
   "execution_count": null,
   "metadata": {},
   "outputs": [],
   "source": [
    "if bye_teams:\n",
    "    team_apps_csv_df = pd.concat([games_tapps_df, games_bye_df])\n",
    "    team_apps_csv_df.drop_duplicates(inplace=True)\n",
    "    team_apps_csv_df.reset_index(inplace=True, drop=True)\n",
    "else:\n",
    "    team_apps_csv_df = games_tapps_df\n",
    "\n",
    "team_apps_csv_df.sample(4)"
   ]
  },
  {
   "cell_type": "markdown",
   "metadata": {},
   "source": [
    "## 5. Save to CSV file for Teams App import"
   ]
  },
  {
   "cell_type": "markdown",
   "metadata": {},
   "source": [
    "In this section, we will produce the CSV file to be imported into TeamAPP as well as pickle files saving the computed dataframes.\n",
    "\n",
    "We start by reporting the games to be written into Schedule CSV file and **CHECKING THAT ALL IS GOOD TO GO!**\n",
    "\n",
    "Particularly, look for games that are schedule but **PENDING** and without all details (time or venue)."
   ]
  },
  {
   "cell_type": "code",
   "execution_count": null,
   "metadata": {},
   "outputs": [],
   "source": [
    "team_apps_csv_df.columns\n",
    "team_apps_csv_df[['team_name', 'opponent', 'start_date', 'start_time', 'venue', 'court']]\n",
    "# team_apps_csv_df"
   ]
  },
  {
   "cell_type": "markdown",
   "metadata": {},
   "source": [
    "We stop the execution here if we are running all Jupyter notebook."
   ]
  },
  {
   "cell_type": "code",
   "execution_count": null,
   "metadata": {},
   "outputs": [],
   "source": [
    "raise SystemExit(\"Stop right there! Continue below to produce the CSV file if needed.\")"
   ]
  },
  {
   "cell_type": "markdown",
   "metadata": {},
   "source": [
    "### 5.2. Check changes with previous saves\n",
    "\n",
    "If the schedule was generated before, check if the new one differs with the one saved already.\n",
    "\n",
    "First, let us define the files that we will save to disk."
   ]
  },
  {
   "cell_type": "code",
   "execution_count": null,
   "metadata": {},
   "outputs": [],
   "source": [
    "import datetime\n",
    "import os\n",
    "import shutil\n",
    "\n",
    "now = datetime.datetime.now() # current date and time\n",
    "now_str = now.strftime(\"%Y-%m-%d_%H:%M:%S\")\n",
    "game_date_str = GAME_DATE.strftime('%Y_%m_%d')\n",
    "\n",
    "file_csv = os.path.join(OUTPUT_PATH, f\"schedule-teamsapp-{game_date_str}.csv\")\n",
    "file_upcoming_pkl = os.path.join(OUTPUT_PATH, f\"upcoming_games_df-{GAME_DATE.strftime('%Y_%m_%d')}.pkl\")\n",
    "file_team_apps_csv = os.path.join(OUTPUT_PATH, f\"team_apps_csv_df-{GAME_DATE.strftime('%Y_%m_%d')}.pkl\")"
   ]
  },
  {
   "cell_type": "markdown",
   "metadata": {},
   "source": [
    "Next, let's check if there was a saved file for the upcoming game day."
   ]
  },
  {
   "cell_type": "code",
   "execution_count": null,
   "metadata": {},
   "outputs": [],
   "source": [
    "cols = ['team_name', 'opponent', 'start_date', 'start_time', 'venue', 'court']\n",
    "\n",
    "changed_games_df = None\n",
    "if os.path.exists(file_team_apps_csv):\n",
    "    print(\"There was already a schedule saved, recovering it to compare...\")\n",
    "    old_team_apps_csv_df = pd.read_pickle(file_team_apps_csv)\n",
    "\n",
    "    teams_changed = pd.concat([team_apps_csv_df[cols], old_team_apps_csv_df[cols]]).drop_duplicates(keep=False)['team_name'].unique()\n",
    "    print(\"Teams whose games have changed (updated, new, dropped):\", teams_changed)\n",
    "\n",
    "    old_games_df = old_team_apps_csv_df[cols].query(\"team_name in @teams_changed\")\n",
    "    new_games_df = team_apps_csv_df[cols].query(\"team_name in @teams_changed\")\n",
    "    changed_games_df = new_games_df.merge(old_games_df, how=\"inner\", on=\"team_name\", suffixes=('_new', '_old'))\n",
    "\n",
    "# Show changes if any...\n",
    "(changed_games_df is not None) and changed_games_df"
   ]
  },
  {
   "cell_type": "markdown",
   "metadata": {},
   "source": [
    "### 5.3. Write a TeamAPP Schedule CSV & Datafarmes Pickles\n",
    "\n",
    "Finally, we save the data to a CSV file that can be imported into the [SCHEDULE of TeamsApp for all Entries](https://brunswickmagicbasketball.teamapp.com/clubs/263995/events?_list=v1&team_id=all)."
   ]
  },
  {
   "cell_type": "code",
   "execution_count": null,
   "metadata": {},
   "outputs": [],
   "source": [
    "import datetime\n",
    "import os\n",
    "import shutil\n",
    "\n",
    "now = datetime.datetime.now() # current date and time\n",
    "now_str = now.strftime(\"%Y-%m-%d_%H:%M:%S\")\n",
    "game_date_str = GAME_DATE.strftime('%Y_%m_%d')\n",
    "\n",
    "if not os.path.exists(OUTPUT_PATH):\n",
    "  os.makedirs(OUTPUT_PATH)\n",
    "\n",
    "print('Saving TeamAPP schedule CSV file and Dataframes for games:', GAME_DATE_NAME)\n",
    "\n",
    "file_csv = os.path.join(OUTPUT_PATH, f\"schedule-teamsapp-{game_date_str}.csv\")\n",
    "file_upcoming_pkl = os.path.join(OUTPUT_PATH, f\"upcoming_games_df-{GAME_DATE.strftime('%Y_%m_%d')}.pkl\")\n",
    "file_team_apps_csv = os.path.join(OUTPUT_PATH, f\"team_apps_csv_df-{GAME_DATE.strftime('%Y_%m_%d')}.pkl\")\n",
    "\n",
    "for f in [file_csv, file_upcoming_pkl, file_team_apps_csv]:\n",
    "  if os.path.exists(f):\n",
    "    print(\"Backup file\", f)\n",
    "    shutil.copy(f, f + \".bak\")\n",
    "\n",
    "print('File to save TeamApp schedule:', file_csv)\n",
    "team_apps_csv_df.to_csv(file_csv, index=False)\n",
    "\n",
    "print('Saving dataframe pickle:', file_upcoming_pkl)\n",
    "upcoming_games_df.to_pickle(file_upcoming_pkl)\n",
    "print('Saving dataframe pickle:', file_team_apps_csv)\n",
    "team_apps_csv_df.to_pickle(file_team_apps_csv)\n",
    "\n",
    "print(f\"Finished saving csv and data-frame files: {now.strftime('%d/%m/%Y, %H:%M:%S')}\")"
   ]
  },
  {
   "cell_type": "markdown",
   "metadata": {},
   "source": [
    "# ------------ END FIXTURE PUBLISHING ------------"
   ]
  },
  {
   "cell_type": "markdown",
   "metadata": {},
   "source": [
    "### Check a particular team"
   ]
  },
  {
   "cell_type": "code",
   "execution_count": null,
   "metadata": {},
   "outputs": [],
   "source": [
    "team = \"U10 Girls Gold\"\n",
    "\n",
    "print(games_tapps_df.query(\"team_name == @team\")['description'].values[0])\n",
    "team_apps_csv_df.query(\"team_name == @team\")[['team_name', 'opponent', 'start_date', 'start_time', 'venue', 'court']]\n"
   ]
  }
 ],
 "metadata": {
  "kernelspec": {
   "display_name": "Python 3.10.6 ('p10')",
   "language": "python",
   "name": "python3"
  },
  "language_info": {
   "codemirror_mode": {
    "name": "ipython",
    "version": 3
   },
   "file_extension": ".py",
   "mimetype": "text/x-python",
   "name": "python",
   "nbconvert_exporter": "python",
   "pygments_lexer": "ipython3",
   "version": "3.10.6"
  },
  "vscode": {
   "interpreter": {
    "hash": "bba08d008a084c0b9f453daa67c429f78b2a7511c43dcbed9cf62fe0b7ddf753"
   }
  }
 },
 "nbformat": 4,
 "nbformat_minor": 2
}
