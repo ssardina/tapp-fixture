{
 "cells": [
  {
   "cell_type": "markdown",
   "metadata": {},
   "source": [
    "# PlayHQ Fixture Scraping\n",
    "\n",
    "This system allows to scrape games from [PlayHQ](http://playhq.com/\n",
    ") via its Public [API](https://support.playhq.com/hc/en-au/sections/4405422358297-PlayHQ-APIs) and produce CSV files ready to be uploaded to [TeamApp](https://brunswickmagicbasketball.teamapp.com/). (Private APIs are not available to clubs and associations.)\n",
    "\n",
    "The *Public* APIs only require a header parameters to get a successful response, which includes `x-api-key` (also referred to as the Client ID) and `x-phq-tenant` (refers to the sport/association - in this case `bv`).\n",
    "\n",
    "Detailed reference documentation for PlayHQ API can be found [here](https://docs.playhq.com/tech).\n",
    "\n",
    "Contact Sebastian Sardina  (sssardina@gmail.com)"
   ]
  },
  {
   "cell_type": "code",
   "execution_count": null,
   "metadata": {},
   "outputs": [],
   "source": [
    "# from IPython.core.interactiveshell import InteractiveShell\n",
    "# InteractiveShell.ast_node_interactivity = \"all\"\n",
    "\n",
    "import pandas as pd\n",
    "import re\n",
    "import os\n",
    "import calendar, datetime\n",
    "\n",
    "import playhq_api as phq\n",
    "\n",
    "# import dtale"
   ]
  },
  {
   "cell_type": "markdown",
   "metadata": {},
   "source": [
    "## 1. Set-up application\n",
    "\n",
    "We start by creating a connection to the PlayHQ Public API.\n",
    "\n",
    "To do so, we need to define the ids and keys for the club to access the PlayHQ API.\n",
    "\n",
    "The organization Play-HQ ID can be obtained from the admin PlayHQ URL:\n",
    "\n",
    "```\n",
    "https://bv.playhq.com/org/<ORG_ID>/competitions\n",
    "```\n",
    "\n",
    "The *Public* APIs only require the below header parameters to get a successful response:\n",
    "\n",
    "- `x-api-key` (also referred to as the Client ID) will be provided by PlayHQ when you request access to the public API via their [support page](https://support.playhq.com/hc/en-au) or email support@playhqsupport.zendesk.com.\n",
    "- `x-phq-tenant` usually refers to the sport/association - in this case '`bv`'.\n",
    "\n",
    "The feature to create new API credentials is disabled for you and can only be actioned by a Super Administrator role within the Play HQ portal. Please use the credentials provided to call the PlayHQ public APIs."
   ]
  },
  {
   "cell_type": "code",
   "execution_count": null,
   "metadata": {},
   "outputs": [],
   "source": [
    "CLUB_NAME = \"Brunswick Magic Basketball Club\"\n",
    "X_TENANT=\"bv\"\n",
    "ORG_ID=\"8c4d5431-eaa5-4644-82ac-992abe224b88\"\n",
    "TIMEZONE = 'Australia/Melbourne'\n",
    "\n",
    "GAME_DATE = phq.next_day(calendar.SATURDAY) # get the date of the upcoming Saturday (game day in competition)\n",
    "GAME_DATE_TIMESTAMP = pd.to_datetime(GAME_DATE).tz_localize(TIMEZONE)\n",
    "GAME_DATE_NAME = GAME_DATE_TIMESTAMP.strftime(\"%A %B %d, %Y (%Y/%m/%d)\") # Saturday August 06, 2022\n",
    "\n",
    "\n",
    "\n",
    "# Provide the x-api-key either explicitly or via a file\n",
    "X_API_KEY=\"<YOUR PLAYHQ ADMIN KEY>\"\n",
    "\n",
    "if os.path.exists('x_api_key.txt'):\n",
    "    with open('x_api_key.txt') as f:\n",
    "        X_API_KEY = f.readlines()[0]\n",
    "\n",
    "phq_club = phq.PlayHQ(CLUB_NAME, ORG_ID, X_API_KEY, X_TENANT, TIMEZONE)\n",
    "\n",
    "print(f\"Set-up games for club {CLUB_NAME} for upcoming Saturday is: {GAME_DATE_NAME}\")"
   ]
  },
  {
   "cell_type": "markdown",
   "metadata": {},
   "source": [
    "Next define the data for the season that we are interested in."
   ]
  },
  {
   "cell_type": "code",
   "execution_count": null,
   "metadata": {},
   "outputs": [],
   "source": [
    "SEASON = \"Winter 2022\"\n",
    "\n",
    "DESC_BYE_TAPP = \"Sorry, no game for the team in this round.\"\n",
    "DESC_TAPP = \"\"\"RSVP is YES by default - if you cannot make it, please let your Team Manager know as soon as possible.\n",
    "Opponent: {opponent}\n",
    "Venue: {venue} ({court})\n",
    "Address: {address} {address_tips}\n",
    "Google Maps coord: https://maps.google.com/?q={coord}\n",
    "\n",
    "- Please ensure you arrive early and ready.\n",
    "- Remember that shorts should have no pockets, players should not wear bracelets/watch as it is a risk of injury.\n",
    "- 45 min schedule with 18 min halves.\n",
    "- Each team needs to provide a scorer. TMs, please consider a roster.\n",
    "- Players should not bring balls into the venue - game balls provided by Magic in coach's equipment bag.\n",
    "- Beginners refs will be wearing green shirts. Please support and respect them through a POSITIVE sideline behaviour.\n",
    "\n",
    "Check the game in PlayHQ: {url_game}\n",
    "Check the round in PlayHQ: {url_grade}\n",
    "All clubs in PlayHQ: https://bit.ly/bmbc-w22\n",
    "\"\"\"\n",
    "\n",
    "PATH_SAVE_CSV='Brunswick_Magics/2022.01.Winter/fixture'"
   ]
  },
  {
   "cell_type": "markdown",
   "metadata": {},
   "source": [
    "## 2. Get the teams and upcoming games for those teams"
   ]
  },
  {
   "cell_type": "markdown",
   "metadata": {},
   "source": [
    "First, get the competition id for the season the organisation is in."
   ]
  },
  {
   "cell_type": "code",
   "execution_count": null,
   "metadata": {},
   "outputs": [],
   "source": [
    "season_id = phq_club.get_season_id(SEASON)\n",
    "teams_df = phq_club.get_season_teams(season_id)\n",
    "teams_df"
   ]
  },
  {
   "cell_type": "markdown",
   "metadata": {},
   "source": [
    "Next get all upcoming games for the Club's teams."
   ]
  },
  {
   "cell_type": "code",
   "execution_count": null,
   "metadata": {},
   "outputs": [],
   "source": [
    "upcoming_games_df = phq_club.get_games(teams_df, GAME_DATE_TIMESTAMP)\n",
    "\n",
    "print(f'There were {upcoming_games_df.size} games extracted for game day: {GAME_DATE_NAME}')\n",
    "upcoming_games_df[phq.GAMES_COLS]"
   ]
  },
  {
   "cell_type": "markdown",
   "metadata": {},
   "source": [
    "## 3. Convert to TeamApp CSV format\n",
    "\n",
    "Next, we convert tthe PlayHQ upcoming games to Teams App format so we can produce a CSV file to be imported into Teams App."
   ]
  },
  {
   "cell_type": "code",
   "execution_count": null,
   "metadata": {},
   "outputs": [],
   "source": [
    "games_tapps_df = phq.to_teamsapp_schedule(upcoming_games_df, desc_template=DESC_TAPP)\n",
    "print(\"Done computing the games for Teams App\")\n",
    "games_tapps_df.sample(3)"
   ]
  },
  {
   "cell_type": "markdown",
   "metadata": {},
   "source": [
    "Next filter and re-order columns relevant to Teams App schedule format."
   ]
  },
  {
   "cell_type": "code",
   "execution_count": null,
   "metadata": {},
   "outputs": [],
   "source": [
    "TAPP_COLS_CSV = ['event_name', 'team_name', 'start_date', 'end_date', 'start_time', 'end_time', 'description', 'venue', 'location', 'access_groups', 'rsvp', 'comments', 'attendance_tracking', 'duty_roster', 'ticketing']\n",
    "\n",
    "team_apps_csv_df = games_tapps_df.loc[:, TAPP_COLS_CSV]\n",
    "team_apps_csv_df.sample(4)\n"
   ]
  },
  {
   "cell_type": "code",
   "execution_count": null,
   "metadata": {},
   "outputs": [],
   "source": [
    "# Inspect description of one record\n",
    "print(team_apps_csv_df.iloc[4]['event_name'])\n",
    "print(team_apps_csv_df.iloc[4]['description'])"
   ]
  },
  {
   "cell_type": "markdown",
   "metadata": {},
   "source": [
    "### Extract and add BYE games"
   ]
  },
  {
   "cell_type": "code",
   "execution_count": null,
   "metadata": {},
   "outputs": [],
   "source": [
    "# Extract the date of the round\n",
    "date = team_apps_csv_df.iloc[1]['start_date']\n",
    "date = GAME_DATE\n",
    "\n",
    "print(f\"Extract BYE games for games on {GAME_DATE_NAME}\")\n",
    "\n",
    "# Extract teams that do not have a game\n",
    "playing_teams = games_tapps_df['team_id'].tolist()\n",
    "bye_teams_df = teams_df.loc[~teams_df['id'].isin(playing_teams)].copy()\n",
    "\n",
    "# Add entries for BYE teams\n",
    "if not bye_teams_df.empty:  # there are BYE games\n",
    "    print(\"There are BYE games...\")\n",
    "\n",
    "    bye_teams_df = bye_teams_df[['id', 'name']]\n",
    "\n",
    "    bye_teams_df['team_name'] = bye_teams_df.apply(lambda x: re.search(\"U.*\", x['name']).group(0), axis=1)\n",
    "    bye_teams_df['access_groups'] = bye_teams_df['team_name']\n",
    "    bye_teams_df['event_name'] = bye_teams_df['team_name'] + \" - BYE\"\n",
    "    bye_teams_df['start_date'] = date\n",
    "    bye_teams_df['end_date'] = date\n",
    "    bye_teams_df['start_time'] = datetime.time(hour=0,minute=0,second=0)\n",
    "    bye_teams_df['end_time'] = datetime.time(hour=0,minute=0,second=0)\n",
    "    bye_teams_df['description'] = DESC_BYE_TAPP\n",
    "    bye_teams_df['location'] = \"\"\n",
    "    bye_teams_df['venue'] = \"BYE\"\n",
    "\n",
    "    bye_teams_df['rsvp'] = 0\n",
    "    bye_teams_df['comments'] = 0\n",
    "    bye_teams_df['attendance_tracking'] = 0\n",
    "    bye_teams_df['duty_roster'] = 0\n",
    "    bye_teams_df['ticketing'] = 0\n",
    "    bye_teams_df['reference_id'] = \"\"\n",
    "\n",
    "    bye_teams_df = bye_teams_df[TAPP_COLS_CSV]\n",
    "    team_apps_csv_df = pd.concat([team_apps_csv_df, bye_teams_df])\n",
    "    team_apps_csv_df.drop_duplicates(inplace=True)\n",
    "\n",
    "\n",
    "if bye_teams_df.size > 0:\n",
    "    for x in bye_teams_df['team_name'].values:\n",
    "        print(x)\n",
    "else:\n",
    "    print(\"No BYE games this round...\")\n",
    "\n",
    "bye_teams_df"
   ]
  },
  {
   "cell_type": "markdown",
   "metadata": {},
   "source": [
    "## 5. Save to CSV file for Teams App import"
   ]
  },
  {
   "cell_type": "markdown",
   "metadata": {},
   "source": [
    "### 5.1. FINAL CHECK\n",
    "\n",
    "Finally, report the games to be written into Schedule CSV file and **CHECK ALL IS GOOD!**\n",
    "\n",
    "Particularly, look for games that are schedule but **PENDING** and without all details (time or venue)."
   ]
  },
  {
   "cell_type": "code",
   "execution_count": null,
   "metadata": {},
   "outputs": [],
   "source": [
    "team_apps_csv_df.columns\n",
    "team_apps_csv_df[['team_name', 'start_date', 'start_time', 'venue']]"
   ]
  },
  {
   "cell_type": "markdown",
   "metadata": {},
   "source": [
    "### 5.2. Write a TeamAPP Schedule CSV\n",
    "\n",
    "Finally, we save the data to a CSV file that can be imported into the [SCHEDULE of TeamsApp for all Entries](https://brunswickmagicbasketball.teamapp.com/clubs/263995/events?_list=v1&team_id=all)."
   ]
  },
  {
   "cell_type": "code",
   "execution_count": null,
   "metadata": {},
   "outputs": [],
   "source": [
    "file_csv = os.path.join(PATH_SAVE_CSV, f\"schedule-teamsapp-{date.strftime('%Y_%m_%d')}.csv\")\n",
    "\n",
    "print(f'Saving TeamAPP schedule CSV file for games on game date: {GAME_DATE_NAME}')\n",
    "print('File to save TeamApp schedule:', file_csv)\n",
    "team_apps_csv_df.to_csv(file_csv, index=False)"
   ]
  },
  {
   "cell_type": "markdown",
   "metadata": {},
   "source": [
    "# ------------ END OF NOTEBOOK ------------"
   ]
  }
 ],
 "metadata": {
  "kernelspec": {
   "display_name": "Python 3.10.5 ('p10')",
   "language": "python",
   "name": "python3"
  },
  "language_info": {
   "codemirror_mode": {
    "name": "ipython",
    "version": 3
   },
   "file_extension": ".py",
   "mimetype": "text/x-python",
   "name": "python",
   "nbconvert_exporter": "python",
   "pygments_lexer": "ipython3",
   "version": "3.10.5"
  },
  "orig_nbformat": 4,
  "vscode": {
   "interpreter": {
    "hash": "bba08d008a084c0b9f453daa67c429f78b2a7511c43dcbed9cf62fe0b7ddf753"
   }
  }
 },
 "nbformat": 4,
 "nbformat_minor": 2
}
