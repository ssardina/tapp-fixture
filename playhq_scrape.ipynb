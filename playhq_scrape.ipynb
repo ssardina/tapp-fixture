{
 "cells": [
  {
   "cell_type": "markdown",
   "metadata": {},
   "source": [
    "# PlayHQ Fixture Scraping\n",
    "\n",
    "This system allows to scrape game fixtures from [PlayHQ](http://playhq.com/\n",
    ") via its Public [API](https://support.playhq.com/hc/en-au/sections/4405422358297-PlayHQ-APIs). \n",
    "\n",
    "It will produce a CSV file ready to be uploaded as Schedule in [TeamApp](https://brunswickmagicbasketball.teamapp.com/).\n",
    "\n",
    "The *Public* APIs only require a header parameters to get a successful response, which includes `x-api-key` (also referred to as the Client ID) and `x-phq-tenant` (refers to the sport/association - in this case `bv`). Note that the Private APIs are not available to clubs and associations.\n",
    "\n",
    "Detailed reference documentation for PlayHQ API can be found [here](https://docs.playhq.com/tech).\n",
    "\n",
    "Contact: Sebastian Sardina (sssardina@gmail.com)"
   ]
  },
  {
   "cell_type": "code",
   "execution_count": 1,
   "metadata": {},
   "outputs": [],
   "source": [
    "# from IPython.core.interactiveshell import InteractiveShell\n",
    "# InteractiveShell.ast_node_interactivity = \"all\"\n",
    "\n",
    "import pandas as pd\n",
    "import re\n",
    "import os\n",
    "import calendar, datetime\n",
    "\n",
    "# Set-up everything if running in Google Colab\n",
    "if \"COLAB_GPU\" in os.environ:\n",
    "  %pip install pyshorteners\n",
    "  %pip install coloredlogs\n",
    "  for f in ['utils.py', 'playhq.py', 'config.py']:\n",
    "    if not os.path.exists(f):\n",
    "      !wget \"https://raw.githubusercontent.com/ssardina/tapp-fixture/main/{f}\"\n",
    "\n",
    "from config import *\n",
    "import utils\n",
    "import playhq as phq"
   ]
  },
  {
   "cell_type": "markdown",
   "metadata": {},
   "source": [
    "## 1. Set-up application\n",
    "\n",
    "First, creating a connection to the PlayHQ Public API. Remember to set-up file `config.py` for club and season configuration.\n",
    "\n",
    "\n",
    "The *Public* APIs only require the below header parameters to get a successful response:\n",
    "\n",
    "- `x-api-key` (also referred to as the Client ID) will be provided by PlayHQ when you request access to the public API via their [support page](https://support.playhq.com/hc/en-au) or email support@playhqsupport.zendesk.com.\n",
    "- `x-phq-tenant` usually refers to the sport/association - in this case '`bv`'.\n",
    "\n",
    "The feature to create new API credentials is disabled for you and can only be actioned by a Super Administrator role within the Play HQ portal. Please use the credentials provided to call the PlayHQ public APIs."
   ]
  },
  {
   "cell_type": "code",
   "execution_count": 2,
   "metadata": {},
   "outputs": [
    {
     "name": "stdout",
     "output_type": "stream",
     "text": [
      "Set-up games for club Brunswick Magic Basketball Club for upcoming Saturday is: Saturday September 10, 2022 (2022/09/10)\n",
      "Game day at PlayHQ: https://bv.playhq.com/org/8c4d5431-eaa5-4644-82ac-992abe224b88/games?date=2022-09-10\n",
      "Club PlayHQ link:  https://bit.ly/bmbc-w22\n"
     ]
    }
   ],
   "source": [
    "GAME_DATE = utils.next_day(calendar.SATURDAY) # get the date of the upcoming Saturday (game day in competition)\n",
    "GAME_DATE_TIMESTAMP = pd.to_datetime(GAME_DATE).tz_localize(TIMEZONE)\n",
    "GAME_DATE_NAME = GAME_DATE_TIMESTAMP.strftime(\"%A %B %d, %Y (%Y/%m/%d)\") # Saturday August 06, 2022\n",
    "\n",
    "phq_club = phq.PlayHQ(CLUB_NAME, ORG_ID, X_API_KEY, X_TENANT, TIMEZONE)\n",
    "print(f\"Set-up games for club {CLUB_NAME} for upcoming Saturday is: {GAME_DATE_NAME}\")\n",
    "\n",
    "PLAYHQ_URL=f\"https://bv.playhq.com/org/{ORG_ID}/games?date={GAME_DATE_TIMESTAMP.strftime('%Y-%m-%d')}\"\n",
    "print(\"Game day at PlayHQ:\", PLAYHQ_URL)\n",
    "print(\"Club PlayHQ link: \", PLAYHQ_CLUB_SEASON)"
   ]
  },
  {
   "cell_type": "markdown",
   "metadata": {},
   "source": [
    "Next check if PlayHQ x-api-key is available already, otherwise ask user for it to access PlayHQ API."
   ]
  },
  {
   "cell_type": "code",
   "execution_count": 3,
   "metadata": {},
   "outputs": [
    {
     "name": "stdout",
     "output_type": "stream",
     "text": [
      "x-api-key is defined!\n"
     ]
    }
   ],
   "source": [
    "if X_API_KEY is None:\n",
    "  X_API_KEY = input(\"Enter your x-api-key:\")\n",
    "\n",
    "print(\"x-api-key is defined!\")"
   ]
  },
  {
   "cell_type": "markdown",
   "metadata": {},
   "source": [
    "Now get the teams of the club; it will be used below."
   ]
  },
  {
   "cell_type": "code",
   "execution_count": 4,
   "metadata": {},
   "outputs": [
    {
     "data": {
      "text/html": [
       "<div>\n",
       "<style scoped>\n",
       "    .dataframe tbody tr th:only-of-type {\n",
       "        vertical-align: middle;\n",
       "    }\n",
       "\n",
       "    .dataframe tbody tr th {\n",
       "        vertical-align: top;\n",
       "    }\n",
       "\n",
       "    .dataframe thead th {\n",
       "        text-align: right;\n",
       "    }\n",
       "</style>\n",
       "<table border=\"1\" class=\"dataframe\">\n",
       "  <thead>\n",
       "    <tr style=\"text-align: right;\">\n",
       "      <th></th>\n",
       "      <th>id</th>\n",
       "      <th>name</th>\n",
       "      <th>grade.id</th>\n",
       "      <th>grade.name</th>\n",
       "      <th>grade.url</th>\n",
       "      <th>age</th>\n",
       "    </tr>\n",
       "  </thead>\n",
       "  <tbody>\n",
       "    <tr>\n",
       "      <th>0</th>\n",
       "      <td>d7486008-b2fe-47db-8011-01265eaf1cfe</td>\n",
       "      <td>Magic U8 Mixed Purple</td>\n",
       "      <td>be7076cb-a1de-4033-8082-b52c8c149861</td>\n",
       "      <td>Saturday U8 Mixed Division 1/2</td>\n",
       "      <td>https://www.playhq.com/basketball-victoria/org...</td>\n",
       "      <td>8</td>\n",
       "    </tr>\n",
       "    <tr>\n",
       "      <th>1</th>\n",
       "      <td>8d635867-0718-4f70-a1b8-1a224992d294</td>\n",
       "      <td>Magic U16 Girls Gold</td>\n",
       "      <td>19b86372-2ad5-4a5a-9592-467f826f7d63</td>\n",
       "      <td>Saturday U16 Girls Division 1/2</td>\n",
       "      <td>https://www.playhq.com/basketball-victoria/org...</td>\n",
       "      <td>16</td>\n",
       "    </tr>\n",
       "    <tr>\n",
       "      <th>2</th>\n",
       "      <td>69d69214-641d-4ece-a2ce-ca9534865553</td>\n",
       "      <td>Magic U16 Boys Purple</td>\n",
       "      <td>be4b2b9c-0bc1-44e2-ac3a-b89bb10230f8</td>\n",
       "      <td>Saturday U16 Boys Division 3</td>\n",
       "      <td>https://www.playhq.com/basketball-victoria/org...</td>\n",
       "      <td>16</td>\n",
       "    </tr>\n",
       "    <tr>\n",
       "      <th>3</th>\n",
       "      <td>135c3bab-3004-4426-b9c6-3669b48ce271</td>\n",
       "      <td>Magic U16 Boys Gold</td>\n",
       "      <td>ceac1ec4-c86b-47c6-9e67-124d923ea713</td>\n",
       "      <td>Saturday U16 Boys Division 2</td>\n",
       "      <td>https://www.playhq.com/basketball-victoria/org...</td>\n",
       "      <td>16</td>\n",
       "    </tr>\n",
       "    <tr>\n",
       "      <th>4</th>\n",
       "      <td>99f369ed-5c63-40e7-8591-8cd18fba7ec0</td>\n",
       "      <td>Magic U14 Boys Gold</td>\n",
       "      <td>d900616b-0f52-4d3e-8090-4eaf877491bb</td>\n",
       "      <td>Saturday U14 Boys Division 5</td>\n",
       "      <td>https://www.playhq.com/basketball-victoria/org...</td>\n",
       "      <td>14</td>\n",
       "    </tr>\n",
       "    <tr>\n",
       "      <th>5</th>\n",
       "      <td>8b2bc68b-9fda-435c-9c13-297d1d3187d1</td>\n",
       "      <td>Magic U14 Girls Purple</td>\n",
       "      <td>b0785b1f-bec6-448b-a76d-83e1a6371fb3</td>\n",
       "      <td>Saturday U14 Girls Division 3</td>\n",
       "      <td>https://www.playhq.com/basketball-victoria/org...</td>\n",
       "      <td>14</td>\n",
       "    </tr>\n",
       "    <tr>\n",
       "      <th>6</th>\n",
       "      <td>9ebeb141-4023-4744-84f1-f58957b966b2</td>\n",
       "      <td>Magic U14 Girls Gold</td>\n",
       "      <td>b0785b1f-bec6-448b-a76d-83e1a6371fb3</td>\n",
       "      <td>Saturday U14 Girls Division 3</td>\n",
       "      <td>https://www.playhq.com/basketball-victoria/org...</td>\n",
       "      <td>14</td>\n",
       "    </tr>\n",
       "    <tr>\n",
       "      <th>7</th>\n",
       "      <td>2b844e90-6575-47bc-bb49-f55840f8e6f8</td>\n",
       "      <td>Magic U14 Girls Black</td>\n",
       "      <td>237a9d9a-52c5-4136-b179-c01b10ad93ae</td>\n",
       "      <td>Saturday U14 Girls Division 4</td>\n",
       "      <td>https://www.playhq.com/basketball-victoria/org...</td>\n",
       "      <td>14</td>\n",
       "    </tr>\n",
       "    <tr>\n",
       "      <th>8</th>\n",
       "      <td>623c00bb-302b-4492-a988-90aacc3e7768</td>\n",
       "      <td>Magic U14 Boys Purple</td>\n",
       "      <td>d900616b-0f52-4d3e-8090-4eaf877491bb</td>\n",
       "      <td>Saturday U14 Boys Division 5</td>\n",
       "      <td>https://www.playhq.com/basketball-victoria/org...</td>\n",
       "      <td>14</td>\n",
       "    </tr>\n",
       "    <tr>\n",
       "      <th>9</th>\n",
       "      <td>a1e571f6-8ac4-49d2-9787-f62b35947eca</td>\n",
       "      <td>Magic U14 Boys Black</td>\n",
       "      <td>b877a73b-037d-460b-acb5-a2c45e5debee</td>\n",
       "      <td>Saturday U14 Boys Division 2</td>\n",
       "      <td>https://www.playhq.com/basketball-victoria/org...</td>\n",
       "      <td>14</td>\n",
       "    </tr>\n",
       "    <tr>\n",
       "      <th>10</th>\n",
       "      <td>21624a59-0b17-4c6a-9c5f-f826fde977f3</td>\n",
       "      <td>Magic U12 Girls Gold</td>\n",
       "      <td>94a4f59b-782c-43d8-adfc-d48a14c122b3</td>\n",
       "      <td>Saturday U12 Girls Division 4</td>\n",
       "      <td>https://www.playhq.com/basketball-victoria/org...</td>\n",
       "      <td>12</td>\n",
       "    </tr>\n",
       "    <tr>\n",
       "      <th>11</th>\n",
       "      <td>a38bece0-6357-4ca6-9415-096fb9f3a236</td>\n",
       "      <td>Magic U12 Girls Black</td>\n",
       "      <td>6c66df7f-4c4d-49a1-bf17-7fca91a3aa60</td>\n",
       "      <td>Saturday U12 Girls Division 2/3</td>\n",
       "      <td>https://www.playhq.com/basketball-victoria/org...</td>\n",
       "      <td>12</td>\n",
       "    </tr>\n",
       "    <tr>\n",
       "      <th>12</th>\n",
       "      <td>2caba13f-f6bb-4919-a7e1-9561d9ce4354</td>\n",
       "      <td>Magic U12 Boys Purple</td>\n",
       "      <td>bb6a6965-397f-4d21-95d9-a157f1046097</td>\n",
       "      <td>Saturday U12 Boys Division 1/2</td>\n",
       "      <td>https://www.playhq.com/basketball-victoria/org...</td>\n",
       "      <td>12</td>\n",
       "    </tr>\n",
       "    <tr>\n",
       "      <th>13</th>\n",
       "      <td>784671dd-0c2e-41a2-b91e-fc860b201d8b</td>\n",
       "      <td>Magic U12 Boys Gold</td>\n",
       "      <td>f02a6b6a-ab3f-4063-bf13-5ce969bc7b9c</td>\n",
       "      <td>Saturday U12 Boys Division 3</td>\n",
       "      <td>https://www.playhq.com/basketball-victoria/org...</td>\n",
       "      <td>12</td>\n",
       "    </tr>\n",
       "    <tr>\n",
       "      <th>14</th>\n",
       "      <td>a6876c13-1b5d-45a0-9abb-60eb285362b1</td>\n",
       "      <td>Magic U12 Boys Diamond</td>\n",
       "      <td>12cf24c9-cc49-4786-948e-ffa97fd6601a</td>\n",
       "      <td>Saturday U12 Boys Division 4</td>\n",
       "      <td>https://www.playhq.com/basketball-victoria/org...</td>\n",
       "      <td>12</td>\n",
       "    </tr>\n",
       "    <tr>\n",
       "      <th>15</th>\n",
       "      <td>b5627a3f-0010-4c11-a658-896f7cc5127a</td>\n",
       "      <td>Magic U12 Boys Black</td>\n",
       "      <td>f02a6b6a-ab3f-4063-bf13-5ce969bc7b9c</td>\n",
       "      <td>Saturday U12 Boys Division 3</td>\n",
       "      <td>https://www.playhq.com/basketball-victoria/org...</td>\n",
       "      <td>12</td>\n",
       "    </tr>\n",
       "    <tr>\n",
       "      <th>16</th>\n",
       "      <td>55b0eb0f-f3e2-4566-bcde-657b1b872103</td>\n",
       "      <td>Magic U10 Boys Purple</td>\n",
       "      <td>0054de05-91a2-4cbe-91e3-0c85c9e46f7b</td>\n",
       "      <td>Saturday U10 Boys Division 3</td>\n",
       "      <td>https://www.playhq.com/basketball-victoria/org...</td>\n",
       "      <td>10</td>\n",
       "    </tr>\n",
       "    <tr>\n",
       "      <th>17</th>\n",
       "      <td>f1b92c31-a2ef-4a31-953e-61f0a4e85f74</td>\n",
       "      <td>Magic U10 Girls Purple</td>\n",
       "      <td>f9f83a3d-b2a9-4d91-81ce-5f89df7abd3d</td>\n",
       "      <td>Saturday U10 Girls Division 1</td>\n",
       "      <td>https://www.playhq.com/basketball-victoria/org...</td>\n",
       "      <td>10</td>\n",
       "    </tr>\n",
       "    <tr>\n",
       "      <th>18</th>\n",
       "      <td>728b7218-1f46-41be-a7c7-9d8d82376c89</td>\n",
       "      <td>Magic U10 Girls Gold</td>\n",
       "      <td>035b8a43-3cc9-478c-b21a-0e956e3837ab</td>\n",
       "      <td>Saturday U10 Girls Division 2</td>\n",
       "      <td>https://www.playhq.com/basketball-victoria/org...</td>\n",
       "      <td>10</td>\n",
       "    </tr>\n",
       "    <tr>\n",
       "      <th>19</th>\n",
       "      <td>6a10ebad-9cc9-4413-aa61-ac4bbff53acd</td>\n",
       "      <td>Magic U10 Boys Gold</td>\n",
       "      <td>fce9759e-c41b-48fc-b528-367fbde57979</td>\n",
       "      <td>Saturday U10 Boys Division 4</td>\n",
       "      <td>https://www.playhq.com/basketball-victoria/org...</td>\n",
       "      <td>10</td>\n",
       "    </tr>\n",
       "  </tbody>\n",
       "</table>\n",
       "</div>"
      ],
      "text/plain": [
       "                                      id                    name  \\\n",
       "0   d7486008-b2fe-47db-8011-01265eaf1cfe   Magic U8 Mixed Purple   \n",
       "1   8d635867-0718-4f70-a1b8-1a224992d294    Magic U16 Girls Gold   \n",
       "2   69d69214-641d-4ece-a2ce-ca9534865553   Magic U16 Boys Purple   \n",
       "3   135c3bab-3004-4426-b9c6-3669b48ce271     Magic U16 Boys Gold   \n",
       "4   99f369ed-5c63-40e7-8591-8cd18fba7ec0     Magic U14 Boys Gold   \n",
       "5   8b2bc68b-9fda-435c-9c13-297d1d3187d1  Magic U14 Girls Purple   \n",
       "6   9ebeb141-4023-4744-84f1-f58957b966b2    Magic U14 Girls Gold   \n",
       "7   2b844e90-6575-47bc-bb49-f55840f8e6f8   Magic U14 Girls Black   \n",
       "8   623c00bb-302b-4492-a988-90aacc3e7768   Magic U14 Boys Purple   \n",
       "9   a1e571f6-8ac4-49d2-9787-f62b35947eca    Magic U14 Boys Black   \n",
       "10  21624a59-0b17-4c6a-9c5f-f826fde977f3    Magic U12 Girls Gold   \n",
       "11  a38bece0-6357-4ca6-9415-096fb9f3a236   Magic U12 Girls Black   \n",
       "12  2caba13f-f6bb-4919-a7e1-9561d9ce4354   Magic U12 Boys Purple   \n",
       "13  784671dd-0c2e-41a2-b91e-fc860b201d8b     Magic U12 Boys Gold   \n",
       "14  a6876c13-1b5d-45a0-9abb-60eb285362b1  Magic U12 Boys Diamond   \n",
       "15  b5627a3f-0010-4c11-a658-896f7cc5127a    Magic U12 Boys Black   \n",
       "16  55b0eb0f-f3e2-4566-bcde-657b1b872103   Magic U10 Boys Purple   \n",
       "17  f1b92c31-a2ef-4a31-953e-61f0a4e85f74  Magic U10 Girls Purple   \n",
       "18  728b7218-1f46-41be-a7c7-9d8d82376c89    Magic U10 Girls Gold   \n",
       "19  6a10ebad-9cc9-4413-aa61-ac4bbff53acd     Magic U10 Boys Gold   \n",
       "\n",
       "                                grade.id                       grade.name  \\\n",
       "0   be7076cb-a1de-4033-8082-b52c8c149861   Saturday U8 Mixed Division 1/2   \n",
       "1   19b86372-2ad5-4a5a-9592-467f826f7d63  Saturday U16 Girls Division 1/2   \n",
       "2   be4b2b9c-0bc1-44e2-ac3a-b89bb10230f8     Saturday U16 Boys Division 3   \n",
       "3   ceac1ec4-c86b-47c6-9e67-124d923ea713     Saturday U16 Boys Division 2   \n",
       "4   d900616b-0f52-4d3e-8090-4eaf877491bb     Saturday U14 Boys Division 5   \n",
       "5   b0785b1f-bec6-448b-a76d-83e1a6371fb3    Saturday U14 Girls Division 3   \n",
       "6   b0785b1f-bec6-448b-a76d-83e1a6371fb3    Saturday U14 Girls Division 3   \n",
       "7   237a9d9a-52c5-4136-b179-c01b10ad93ae    Saturday U14 Girls Division 4   \n",
       "8   d900616b-0f52-4d3e-8090-4eaf877491bb     Saturday U14 Boys Division 5   \n",
       "9   b877a73b-037d-460b-acb5-a2c45e5debee     Saturday U14 Boys Division 2   \n",
       "10  94a4f59b-782c-43d8-adfc-d48a14c122b3    Saturday U12 Girls Division 4   \n",
       "11  6c66df7f-4c4d-49a1-bf17-7fca91a3aa60  Saturday U12 Girls Division 2/3   \n",
       "12  bb6a6965-397f-4d21-95d9-a157f1046097   Saturday U12 Boys Division 1/2   \n",
       "13  f02a6b6a-ab3f-4063-bf13-5ce969bc7b9c     Saturday U12 Boys Division 3   \n",
       "14  12cf24c9-cc49-4786-948e-ffa97fd6601a     Saturday U12 Boys Division 4   \n",
       "15  f02a6b6a-ab3f-4063-bf13-5ce969bc7b9c     Saturday U12 Boys Division 3   \n",
       "16  0054de05-91a2-4cbe-91e3-0c85c9e46f7b     Saturday U10 Boys Division 3   \n",
       "17  f9f83a3d-b2a9-4d91-81ce-5f89df7abd3d    Saturday U10 Girls Division 1   \n",
       "18  035b8a43-3cc9-478c-b21a-0e956e3837ab    Saturday U10 Girls Division 2   \n",
       "19  fce9759e-c41b-48fc-b528-367fbde57979     Saturday U10 Boys Division 4   \n",
       "\n",
       "                                            grade.url age  \n",
       "0   https://www.playhq.com/basketball-victoria/org...   8  \n",
       "1   https://www.playhq.com/basketball-victoria/org...  16  \n",
       "2   https://www.playhq.com/basketball-victoria/org...  16  \n",
       "3   https://www.playhq.com/basketball-victoria/org...  16  \n",
       "4   https://www.playhq.com/basketball-victoria/org...  14  \n",
       "5   https://www.playhq.com/basketball-victoria/org...  14  \n",
       "6   https://www.playhq.com/basketball-victoria/org...  14  \n",
       "7   https://www.playhq.com/basketball-victoria/org...  14  \n",
       "8   https://www.playhq.com/basketball-victoria/org...  14  \n",
       "9   https://www.playhq.com/basketball-victoria/org...  14  \n",
       "10  https://www.playhq.com/basketball-victoria/org...  12  \n",
       "11  https://www.playhq.com/basketball-victoria/org...  12  \n",
       "12  https://www.playhq.com/basketball-victoria/org...  12  \n",
       "13  https://www.playhq.com/basketball-victoria/org...  12  \n",
       "14  https://www.playhq.com/basketball-victoria/org...  12  \n",
       "15  https://www.playhq.com/basketball-victoria/org...  12  \n",
       "16  https://www.playhq.com/basketball-victoria/org...  10  \n",
       "17  https://www.playhq.com/basketball-victoria/org...  10  \n",
       "18  https://www.playhq.com/basketball-victoria/org...  10  \n",
       "19  https://www.playhq.com/basketball-victoria/org...  10  "
      ]
     },
     "execution_count": 4,
     "metadata": {},
     "output_type": "execute_result"
    }
   ],
   "source": [
    "season_id = phq_club.get_season_id(SEASON)\n",
    "teams_df = phq_club.get_season_teams(season_id)\n",
    "teams_df"
   ]
  },
  {
   "cell_type": "markdown",
   "metadata": {},
   "source": [
    "## 2. Get the upcoming games for those teams"
   ]
  },
  {
   "cell_type": "markdown",
   "metadata": {},
   "source": [
    "Using the teams of the club, extract all upcoming games for the Club's teams."
   ]
  },
  {
   "cell_type": "code",
   "execution_count": null,
   "metadata": {},
   "outputs": [],
   "source": [
    "upcoming_games_df = phq_club.get_games(teams_df, GAME_DATE_TIMESTAMP)\n",
    "\n",
    "if upcoming_games_df is not None:\n",
    "    print(f'There were {upcoming_games_df.shape[0]} games extracted for game day: {GAME_DATE_NAME}')\n",
    "    upcoming_games_df[phq.GAMES_COLS]\n",
    "else:\n",
    "    print(\"No games for date: \", GAME_DATE_NAME)"
   ]
  },
  {
   "cell_type": "markdown",
   "metadata": {},
   "source": [
    "## 3. Convert to TeamApp CSV format\n",
    "\n",
    "Next, we convert the PlayHQ upcoming games to Teams App format so we can produce a CSV file to be imported into Teams App."
   ]
  },
  {
   "cell_type": "code",
   "execution_count": null,
   "metadata": {},
   "outputs": [],
   "source": [
    "games_tapps_df = utils.to_teamsapp_schedule(upcoming_games_df, desc_template=DESC_TAPP, game_duration=45)\n",
    "print(\"Done computing the games for Teams App\")\n",
    "games_tapps_df.sample(3)"
   ]
  },
  {
   "cell_type": "code",
   "execution_count": null,
   "metadata": {},
   "outputs": [],
   "source": [
    "# Inspect description of one record\n",
    "print(games_tapps_df.iloc[4]['event_name'])\n",
    "print(games_tapps_df.iloc[4]['description'])"
   ]
  },
  {
   "cell_type": "markdown",
   "metadata": {},
   "source": [
    "### Extract BYE games"
   ]
  },
  {
   "cell_type": "code",
   "execution_count": null,
   "metadata": {},
   "outputs": [],
   "source": [
    "playing_teams = upcoming_games_df['team_id'].tolist()\n",
    "bye_teams = teams_df.loc[~teams_df['id'].isin(playing_teams)]['name'].tolist()\n",
    "bye_teams = list(map(lambda x: re.search(\"U.*\", x).group(0), bye_teams))\n",
    "\n",
    "print(f\"Bye teams ({len(bye_teams)}): \", bye_teams)"
   ]
  },
  {
   "cell_type": "code",
   "execution_count": null,
   "metadata": {},
   "outputs": [],
   "source": [
    "# Extract the date of the round\n",
    "# date = team_apps_csv_df.iloc[1]['start_date']\n",
    "print(f\"Extract BYE games for games on {GAME_DATE_NAME}\")\n",
    "\n",
    "# Extract teams that do not have a game\n",
    "if bye_teams:\n",
    "    games_bye_df = utils.build_teamsapp_bye_schedule(bye_teams, GAME_DATE)\n",
    "else:\n",
    "    print(\"No BYE games this round...\")\n",
    "\n",
    "games_bye_df"
   ]
  },
  {
   "cell_type": "markdown",
   "metadata": {},
   "source": [
    "Finally, put together upcoming games and BYE games in a single DataFrame."
   ]
  },
  {
   "cell_type": "code",
   "execution_count": null,
   "metadata": {},
   "outputs": [],
   "source": [
    "team_apps_csv_df = pd.concat([games_tapps_df, games_bye_df])\n",
    "team_apps_csv_df.drop_duplicates(inplace=True)\n",
    "team_apps_csv_df.reset_index(inplace=True, drop=True)\n",
    "\n",
    "team_apps_csv_df\n",
    "\n"
   ]
  },
  {
   "cell_type": "markdown",
   "metadata": {},
   "source": [
    "## 5. Save to CSV file for Teams App import"
   ]
  },
  {
   "cell_type": "markdown",
   "metadata": {},
   "source": [
    "### 5.1. FINAL CHECK\n",
    "\n",
    "Finally, report the games to be written into Schedule CSV file and **CHECK ALL IS GOOD!**\n",
    "\n",
    "Particularly, look for games that are schedule but **PENDING** and without all details (time or venue)."
   ]
  },
  {
   "cell_type": "code",
   "execution_count": null,
   "metadata": {},
   "outputs": [],
   "source": [
    "team_apps_csv_df.columns\n",
    "team_apps_csv_df[['team_name', 'start_date', 'start_time', 'venue']]"
   ]
  },
  {
   "cell_type": "markdown",
   "metadata": {},
   "source": [
    "### 5.2. Write a TeamAPP Schedule CSV\n",
    "\n",
    "Finally, we save the data to a CSV file that can be imported into the [SCHEDULE of TeamsApp for all Entries](https://brunswickmagicbasketball.teamapp.com/clubs/263995/events?_list=v1&team_id=all)."
   ]
  },
  {
   "cell_type": "code",
   "execution_count": null,
   "metadata": {},
   "outputs": [],
   "source": [
    "file_csv = os.path.join(OUTPUT_PATH, f\"schedule-teamsapp-{date.strftime('%Y_%m_%d')}.csv\")\n",
    "\n",
    "print(f'Saving TeamAPP schedule CSV file for games on game date: {GAME_DATE_NAME}')\n",
    "print('File to save TeamApp schedule:', file_csv)\n",
    "team_apps_csv_df.to_csv(file_csv, index=False)"
   ]
  },
  {
   "cell_type": "markdown",
   "metadata": {},
   "source": [
    "### 5.3. Write fixture dataframe too\n",
    "\n"
   ]
  },
  {
   "cell_type": "code",
   "execution_count": null,
   "metadata": {},
   "outputs": [],
   "source": [
    "import datetime\n",
    "import os\n",
    "\n",
    "now = datetime.datetime.now() # current date and time\n",
    "\n",
    "now_str = now.strftime(\"%Y-%m-%d_%H:%M:%S\")\n",
    "upcoming_games_df.to_pickle(os.path.join(OUTPUT_PATH, f\"upcoming_games_df-{now_str}.pkl\"))\n",
    "team_apps_csv_df.to_pickle(os.path.join(OUTPUT_PATH, f\"team_apps_csv_df-{now_str}.pkl\"))\n",
    "\n",
    "print(f\"Finished saving dataframes: {now.strftime('%d/%m/%Y, %H:%M:%S')}\")"
   ]
  },
  {
   "cell_type": "markdown",
   "metadata": {},
   "source": [
    "# ------------ END FIXTURE PUBLISHING ------------"
   ]
  },
  {
   "cell_type": "markdown",
   "metadata": {},
   "source": [
    "## 6. Re-check Fixture\n",
    "\n",
    "On Friday, just before the game day, re-check to see if any game has been changed (e.g., venue, time).\n",
    "\n",
    "First, re-extract games in another dataframe:"
   ]
  },
  {
   "cell_type": "code",
   "execution_count": null,
   "metadata": {},
   "outputs": [],
   "source": [
    "# Recover pikle saved dataframe (comment if using above directly)\n",
    "FILE = \"upcoming_games_df-2022-09-06_17:14:47.pkl\"\n",
    "upcoming_games_df = pd.read_pickle(os.path.join(OUTPUT_PATH, FILE))\n",
    "\n",
    "upcoming_games_df[phq.GAMES_COLS]"
   ]
  },
  {
   "cell_type": "code",
   "execution_count": null,
   "metadata": {},
   "outputs": [],
   "source": [
    "upcoming_games2_df = phq_club.get_games(teams_df, GAME_DATE_TIMESTAMP)\n",
    "\n",
    "print(f'There were {upcoming_games2_df.shape[0]} games extracted for game day: {GAME_DATE_NAME}')\n",
    "upcoming_games2_df[phq.GAMES_COLS]"
   ]
  },
  {
   "cell_type": "markdown",
   "metadata": {},
   "source": [
    "Now, check for differences if any:"
   ]
  },
  {
   "cell_type": "code",
   "execution_count": null,
   "metadata": {},
   "outputs": [],
   "source": [
    "cols = ['team_name', 'schedule_timestamp', 'venue_name']\n",
    "\n",
    "print(\"Report games that have changed since last extraction:\")\n",
    "teams_changed = pd.concat([upcoming_games2_df[cols], upcoming_games_df[cols]]).drop_duplicates(keep=False)['team_name'].unique()\n",
    "\n",
    "changes_df = upcoming_games_df[cols].query(\"team_name in @teams_changed\")\n",
    "changes_df.merge(upcoming_games2_df[cols], how=\"outer\", on=\"team_name\", suffixes=('_new', '_old'))\n",
    "\n",
    "teams_changed"
   ]
  },
  {
   "cell_type": "code",
   "execution_count": null,
   "metadata": {},
   "outputs": [],
   "source": [
    "upcoming_games_df"
   ]
  },
  {
   "cell_type": "code",
   "execution_count": null,
   "metadata": {},
   "outputs": [],
   "source": [
    "upcoming_games_df[cols].merge(upcoming_games2_df[cols], indicator = True, how='outer', on=\"team_name\", suffixes=('_new', '_old')).loc[lambda x : x['_merge']!='both']\n"
   ]
  },
  {
   "cell_type": "markdown",
   "metadata": {},
   "source": [
    "### Check a particular team"
   ]
  },
  {
   "cell_type": "code",
   "execution_count": null,
   "metadata": {},
   "outputs": [],
   "source": [
    "upcoming_games_df.query(\"team_name == 'U14 Girls Black'\")"
   ]
  }
 ],
 "metadata": {
  "kernelspec": {
   "display_name": "Python 3 (ipykernel)",
   "language": "python",
   "name": "python3"
  },
  "language_info": {
   "codemirror_mode": {
    "name": "ipython",
    "version": 3
   },
   "file_extension": ".py",
   "mimetype": "text/x-python",
   "name": "python",
   "nbconvert_exporter": "python",
   "pygments_lexer": "ipython3",
   "version": "3.8.10"
  },
  "vscode": {
   "interpreter": {
    "hash": "31f2aee4e71d21fbe5cf8b01ff0e069b9275f58929596ceb00d14d90e3e16cd6"
   }
  }
 },
 "nbformat": 4,
 "nbformat_minor": 2
}
