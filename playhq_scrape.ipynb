{
 "cells": [
  {
   "cell_type": "markdown",
   "metadata": {},
   "source": [
    "# PlayHQ Fixture Scraping\n",
    "\n",
    "[![Open In Colab](https://colab.research.google.com/assets/colab-badge.svg)](https://colab.research.google.com/github/googlecolab/colabtools/blob/master/notebooks/colab-github-demo.ipynb)\n",
    "\n",
    "\n",
    "This system allows to scrape game fixtures from [PlayHQ](http://playhq.com/\n",
    ") via its Public [API](https://support.playhq.com/hc/en-au/sections/4405422358297-PlayHQ-APIs). \n",
    "\n",
    "It will produce a CSV file ready to be uploaded as Schedule in [TeamApp](https://brunswickmagicbasketball.teamapp.com/).\n",
    "\n",
    "The *Public* APIs only require a header parameters to get a successful response, which includes `x-api-key` (also referred to as the Client ID) and `x-phq-tenant` (refers to the sport/association - in this case `bv`). Note that the Private APIs are not available to clubs and associations.\n",
    "\n",
    "Detailed reference documentation for PlayHQ API can be found [here](https://docs.playhq.com/tech).\n",
    "\n",
    "Contact: Sebastian Sardina (sssardina@gmail.com)"
   ]
  },
  {
   "cell_type": "code",
   "execution_count": null,
   "metadata": {},
   "outputs": [],
   "source": [
    "# from IPython.core.interactiveshell import InteractiveShell\n",
    "# InteractiveShell.ast_node_interactivity = \"all\"\n",
    "\n",
    "import pandas as pd\n",
    "import re\n",
    "import os\n",
    "import calendar, datetime\n",
    "\n",
    "# Set-up everything if running in Google Colab\n",
    "if \"COLAB_GPU\" in os.environ:\n",
    "  %pip install pyshorteners\n",
    "  %pip install coloredlogs\n",
    "  for f in ['utils.py', 'playhq.py', 'config.py']:\n",
    "    if not os.path.exists(f):\n",
    "      !wget \"https://raw.githubusercontent.com/ssardina/tapp-fixture/main/{f}\"\n",
    "\n",
    "from config import *\n",
    "import utils\n",
    "import playhq as phq"
   ]
  },
  {
   "cell_type": "markdown",
   "metadata": {},
   "source": [
    "## 1. Set-up application\n",
    "\n",
    "First, creating a connection to the PlayHQ Public API. Remember to set-up file `config.py` for club and season configuration.\n",
    "\n",
    "\n",
    "The *Public* APIs only require the below header parameters to get a successful response:\n",
    "\n",
    "- `x-api-key` (also referred to as the Client ID) will be provided by PlayHQ when you request access to the public API via their [support page](https://support.playhq.com/hc/en-au) or email support@playhqsupport.zendesk.com.\n",
    "- `x-phq-tenant` usually refers to the sport/association - in this case '`bv`'.\n",
    "\n",
    "The feature to create new API credentials is disabled for you and can only be actioned by a Super Administrator role within the Play HQ portal. Please use the credentials provided to call the PlayHQ public APIs."
   ]
  },
  {
   "cell_type": "code",
   "execution_count": null,
   "metadata": {},
   "outputs": [],
   "source": [
    "GAME_DATE = utils.next_day(calendar.SATURDAY) # get the date of the upcoming Saturday (game day in competition)\n",
    "GAME_DATE_TIMESTAMP = pd.to_datetime(GAME_DATE).tz_localize(TIMEZONE)\n",
    "GAME_DATE_NAME = GAME_DATE_TIMESTAMP.strftime(\"%A %B %d, %Y (%Y/%m/%d)\") # Saturday August 06, 2022\n",
    "\n",
    "phq_club = phq.PlayHQ(CLUB_NAME, ORG_ID, X_API_KEY, X_TENANT, TIMEZONE)\n",
    "print(f\"Set-up games for club {CLUB_NAME} for upcoming Saturday is: {GAME_DATE_NAME}\")\n",
    "\n",
    "PLAYHQ_URL=f\"https://bv.playhq.com/org/{ORG_ID}/games?date={GAME_DATE_TIMESTAMP.strftime('%Y-%m-%d')}\"\n",
    "print(\"Game day at PlayHQ:\", PLAYHQ_URL)\n",
    "print(\"Club PlayHQ link: \", PLAYHQ_CLUB_SEASON)"
   ]
  },
  {
   "cell_type": "markdown",
   "metadata": {},
   "source": [
    "Next check if PlayHQ x-api-key is available already, otherwise ask user for it to access PlayHQ API."
   ]
  },
  {
   "cell_type": "code",
   "execution_count": null,
   "metadata": {},
   "outputs": [],
   "source": [
    "if X_API_KEY is None:\n",
    "  X_API_KEY = input(\"Enter your x-api-key:\")\n",
    "\n",
    "print(\"x-api-key is defined!\")"
   ]
  },
  {
   "cell_type": "markdown",
   "metadata": {},
   "source": [
    "Now get the teams of the club; it will be used below."
   ]
  },
  {
   "cell_type": "code",
   "execution_count": null,
   "metadata": {},
   "outputs": [],
   "source": [
    "season_id = phq_club.get_season_id(SEASON)\n",
    "teams_df = phq_club.get_season_teams(season_id)\n",
    "teams_df"
   ]
  },
  {
   "cell_type": "markdown",
   "metadata": {},
   "source": [
    "## 2. Get the upcoming games for those teams"
   ]
  },
  {
   "cell_type": "markdown",
   "metadata": {},
   "source": [
    "Using the teams of the club, extract all upcoming games for the Club's teams."
   ]
  },
  {
   "cell_type": "code",
   "execution_count": null,
   "metadata": {},
   "outputs": [],
   "source": [
    "upcoming_games_df = phq_club.get_games(teams_df, GAME_DATE_TIMESTAMP)\n",
    "\n",
    "if upcoming_games_df is not None:\n",
    "    print(f'There were {upcoming_games_df.shape[0]} games extracted for game day: {GAME_DATE_NAME}')\n",
    "    upcoming_games_df[phq.GAMES_COLS]\n",
    "else:\n",
    "    print(\"No games for date: \", GAME_DATE_NAME)"
   ]
  },
  {
   "cell_type": "markdown",
   "metadata": {},
   "source": [
    "## 3. Convert to TeamApp CSV format\n",
    "\n",
    "Next, we convert the PlayHQ upcoming games to Teams App format so we can produce a CSV file to be imported into Teams App."
   ]
  },
  {
   "cell_type": "code",
   "execution_count": null,
   "metadata": {},
   "outputs": [],
   "source": [
    "games_tapps_df = utils.to_teamsapp_schedule(upcoming_games_df, desc_template=DESC_TAPP, game_duration=45)\n",
    "print(\"Done computing the games for Teams App\")\n",
    "games_tapps_df.sample(3)"
   ]
  },
  {
   "cell_type": "code",
   "execution_count": null,
   "metadata": {},
   "outputs": [],
   "source": [
    "# Inspect description of one record\n",
    "print(games_tapps_df.iloc[4]['event_name'])\n",
    "print(games_tapps_df.iloc[4]['description'])"
   ]
  },
  {
   "cell_type": "markdown",
   "metadata": {},
   "source": [
    "### Extract BYE games"
   ]
  },
  {
   "cell_type": "code",
   "execution_count": null,
   "metadata": {},
   "outputs": [],
   "source": [
    "playing_teams = upcoming_games_df['team_id'].tolist()\n",
    "bye_teams = teams_df.loc[~teams_df['id'].isin(playing_teams)]['name'].tolist()\n",
    "bye_teams = list(map(lambda x: re.search(\"U.*\", x).group(0), bye_teams))\n",
    "\n",
    "print(f\"Bye teams ({len(bye_teams)}): \", bye_teams)"
   ]
  },
  {
   "cell_type": "code",
   "execution_count": null,
   "metadata": {},
   "outputs": [],
   "source": [
    "# Extract the date of the round\n",
    "# date = team_apps_csv_df.iloc[1]['start_date']\n",
    "print(f\"Extract BYE games for games on {GAME_DATE_NAME}\")\n",
    "\n",
    "# Extract teams that do not have a game\n",
    "if bye_teams:\n",
    "    games_bye_df = utils.build_teamsapp_bye_schedule(bye_teams, GAME_DATE)\n",
    "else:\n",
    "    print(\"No BYE games this round...\")\n",
    "\n",
    "games_bye_df"
   ]
  },
  {
   "cell_type": "markdown",
   "metadata": {},
   "source": [
    "Finally, put together upcoming games and BYE games in a single DataFrame."
   ]
  },
  {
   "cell_type": "code",
   "execution_count": null,
   "metadata": {},
   "outputs": [],
   "source": [
    "team_apps_csv_df = pd.concat([games_tapps_df, games_bye_df])\n",
    "team_apps_csv_df.drop_duplicates(inplace=True)\n",
    "team_apps_csv_df.reset_index(inplace=True, drop=True)\n",
    "\n",
    "team_apps_csv_df\n",
    "\n"
   ]
  },
  {
   "cell_type": "markdown",
   "metadata": {},
   "source": [
    "## 5. Save to CSV file for Teams App import"
   ]
  },
  {
   "cell_type": "markdown",
   "metadata": {},
   "source": [
    "### 5.1. FINAL CHECK\n",
    "\n",
    "Finally, report the games to be written into Schedule CSV file and **CHECK ALL IS GOOD!**\n",
    "\n",
    "Particularly, look for games that are schedule but **PENDING** and without all details (time or venue)."
   ]
  },
  {
   "cell_type": "code",
   "execution_count": 28,
   "metadata": {},
   "outputs": [
    {
     "data": {
      "text/html": [
       "<div>\n",
       "<style scoped>\n",
       "    .dataframe tbody tr th:only-of-type {\n",
       "        vertical-align: middle;\n",
       "    }\n",
       "\n",
       "    .dataframe tbody tr th {\n",
       "        vertical-align: top;\n",
       "    }\n",
       "\n",
       "    .dataframe thead th {\n",
       "        text-align: right;\n",
       "    }\n",
       "</style>\n",
       "<table border=\"1\" class=\"dataframe\">\n",
       "  <thead>\n",
       "    <tr style=\"text-align: right;\">\n",
       "      <th></th>\n",
       "      <th>team_name</th>\n",
       "      <th>start_date</th>\n",
       "      <th>start_time</th>\n",
       "      <th>venue</th>\n",
       "    </tr>\n",
       "  </thead>\n",
       "  <tbody>\n",
       "    <tr>\n",
       "      <th>0</th>\n",
       "      <td>U16 Girls Gold</td>\n",
       "      <td>2022-09-10</td>\n",
       "      <td>13:30:00</td>\n",
       "      <td>Coburg Basketball Stadium</td>\n",
       "    </tr>\n",
       "    <tr>\n",
       "      <th>1</th>\n",
       "      <td>U14 Girls Gold</td>\n",
       "      <td>2022-09-10</td>\n",
       "      <td>12:30:00</td>\n",
       "      <td>Pascoe Vale Girls College</td>\n",
       "    </tr>\n",
       "    <tr>\n",
       "      <th>2</th>\n",
       "      <td>U14 Girls Black</td>\n",
       "      <td>2022-09-10</td>\n",
       "      <td>11:30:00</td>\n",
       "      <td>Coburg Basketball Stadium</td>\n",
       "    </tr>\n",
       "    <tr>\n",
       "      <th>3</th>\n",
       "      <td>U14 Boys Purple</td>\n",
       "      <td>2022-09-10</td>\n",
       "      <td>12:30:00</td>\n",
       "      <td>Mercy College</td>\n",
       "    </tr>\n",
       "    <tr>\n",
       "      <th>4</th>\n",
       "      <td>U12 Girls Black</td>\n",
       "      <td>2022-09-10</td>\n",
       "      <td>10:30:00</td>\n",
       "      <td>Mercy College</td>\n",
       "    </tr>\n",
       "    <tr>\n",
       "      <th>5</th>\n",
       "      <td>U12 Boys Black</td>\n",
       "      <td>2022-09-10</td>\n",
       "      <td>09:30:00</td>\n",
       "      <td>Oak Park Stadium</td>\n",
       "    </tr>\n",
       "    <tr>\n",
       "      <th>6</th>\n",
       "      <td>U10 Boys Purple</td>\n",
       "      <td>2022-09-10</td>\n",
       "      <td>09:30:00</td>\n",
       "      <td>St John's College (Preston)</td>\n",
       "    </tr>\n",
       "    <tr>\n",
       "      <th>7</th>\n",
       "      <td>U10 Girls Purple</td>\n",
       "      <td>2022-09-10</td>\n",
       "      <td>08:30:00</td>\n",
       "      <td>Coburg Basketball Stadium</td>\n",
       "    </tr>\n",
       "    <tr>\n",
       "      <th>8</th>\n",
       "      <td>U10 Girls Gold</td>\n",
       "      <td>2022-09-10</td>\n",
       "      <td>09:30:00</td>\n",
       "      <td>Mercy College</td>\n",
       "    </tr>\n",
       "    <tr>\n",
       "      <th>9</th>\n",
       "      <td>U10 Boys Gold</td>\n",
       "      <td>2022-09-10</td>\n",
       "      <td>09:30:00</td>\n",
       "      <td>Coburg Senior High School</td>\n",
       "    </tr>\n",
       "    <tr>\n",
       "      <th>10</th>\n",
       "      <td>U8 Mixed Purple</td>\n",
       "      <td>2022-09-10</td>\n",
       "      <td>00:00:00</td>\n",
       "      <td>BYE</td>\n",
       "    </tr>\n",
       "    <tr>\n",
       "      <th>11</th>\n",
       "      <td>U16 Boys Purple</td>\n",
       "      <td>2022-09-10</td>\n",
       "      <td>00:00:00</td>\n",
       "      <td>BYE</td>\n",
       "    </tr>\n",
       "    <tr>\n",
       "      <th>12</th>\n",
       "      <td>U16 Boys Gold</td>\n",
       "      <td>2022-09-10</td>\n",
       "      <td>00:00:00</td>\n",
       "      <td>BYE</td>\n",
       "    </tr>\n",
       "    <tr>\n",
       "      <th>13</th>\n",
       "      <td>U14 Boys Gold</td>\n",
       "      <td>2022-09-10</td>\n",
       "      <td>00:00:00</td>\n",
       "      <td>BYE</td>\n",
       "    </tr>\n",
       "    <tr>\n",
       "      <th>14</th>\n",
       "      <td>U14 Girls Purple</td>\n",
       "      <td>2022-09-10</td>\n",
       "      <td>00:00:00</td>\n",
       "      <td>BYE</td>\n",
       "    </tr>\n",
       "    <tr>\n",
       "      <th>15</th>\n",
       "      <td>U14 Boys Black</td>\n",
       "      <td>2022-09-10</td>\n",
       "      <td>00:00:00</td>\n",
       "      <td>BYE</td>\n",
       "    </tr>\n",
       "    <tr>\n",
       "      <th>16</th>\n",
       "      <td>U12 Girls Gold</td>\n",
       "      <td>2022-09-10</td>\n",
       "      <td>00:00:00</td>\n",
       "      <td>BYE</td>\n",
       "    </tr>\n",
       "    <tr>\n",
       "      <th>17</th>\n",
       "      <td>U12 Boys Purple</td>\n",
       "      <td>2022-09-10</td>\n",
       "      <td>00:00:00</td>\n",
       "      <td>BYE</td>\n",
       "    </tr>\n",
       "    <tr>\n",
       "      <th>18</th>\n",
       "      <td>U12 Boys Gold</td>\n",
       "      <td>2022-09-10</td>\n",
       "      <td>00:00:00</td>\n",
       "      <td>BYE</td>\n",
       "    </tr>\n",
       "    <tr>\n",
       "      <th>19</th>\n",
       "      <td>U12 Boys Diamond</td>\n",
       "      <td>2022-09-10</td>\n",
       "      <td>00:00:00</td>\n",
       "      <td>BYE</td>\n",
       "    </tr>\n",
       "  </tbody>\n",
       "</table>\n",
       "</div>"
      ],
      "text/plain": [
       "           team_name  start_date start_time                        venue\n",
       "0     U16 Girls Gold  2022-09-10   13:30:00    Coburg Basketball Stadium\n",
       "1     U14 Girls Gold  2022-09-10   12:30:00    Pascoe Vale Girls College\n",
       "2    U14 Girls Black  2022-09-10   11:30:00    Coburg Basketball Stadium\n",
       "3    U14 Boys Purple  2022-09-10   12:30:00                Mercy College\n",
       "4    U12 Girls Black  2022-09-10   10:30:00                Mercy College\n",
       "5     U12 Boys Black  2022-09-10   09:30:00             Oak Park Stadium\n",
       "6    U10 Boys Purple  2022-09-10   09:30:00  St John's College (Preston)\n",
       "7   U10 Girls Purple  2022-09-10   08:30:00    Coburg Basketball Stadium\n",
       "8     U10 Girls Gold  2022-09-10   09:30:00                Mercy College\n",
       "9      U10 Boys Gold  2022-09-10   09:30:00    Coburg Senior High School\n",
       "10   U8 Mixed Purple  2022-09-10   00:00:00                          BYE\n",
       "11   U16 Boys Purple  2022-09-10   00:00:00                          BYE\n",
       "12     U16 Boys Gold  2022-09-10   00:00:00                          BYE\n",
       "13     U14 Boys Gold  2022-09-10   00:00:00                          BYE\n",
       "14  U14 Girls Purple  2022-09-10   00:00:00                          BYE\n",
       "15    U14 Boys Black  2022-09-10   00:00:00                          BYE\n",
       "16    U12 Girls Gold  2022-09-10   00:00:00                          BYE\n",
       "17   U12 Boys Purple  2022-09-10   00:00:00                          BYE\n",
       "18     U12 Boys Gold  2022-09-10   00:00:00                          BYE\n",
       "19  U12 Boys Diamond  2022-09-10   00:00:00                          BYE"
      ]
     },
     "execution_count": 28,
     "metadata": {},
     "output_type": "execute_result"
    }
   ],
   "source": [
    "team_apps_csv_df.columns\n",
    "team_apps_csv_df[['team_name', 'start_date', 'start_time', 'venue']]"
   ]
  },
  {
   "cell_type": "markdown",
   "metadata": {},
   "source": [
    "### 5.2. Write a TeamAPP Schedule CSV\n",
    "\n",
    "Finally, we save the data to a CSV file that can be imported into the [SCHEDULE of TeamsApp for all Entries](https://brunswickmagicbasketball.teamapp.com/clubs/263995/events?_list=v1&team_id=all)."
   ]
  },
  {
   "cell_type": "code",
   "execution_count": null,
   "metadata": {},
   "outputs": [],
   "source": [
    "file_csv = os.path.join(OUTPUT_PATH, f\"schedule-teamsapp-{date.strftime('%Y_%m_%d')}.csv\")\n",
    "\n",
    "print(f'Saving TeamAPP schedule CSV file for games on game date: {GAME_DATE_NAME}')\n",
    "print('File to save TeamApp schedule:', file_csv)\n",
    "team_apps_csv_df.to_csv(file_csv, index=False)"
   ]
  },
  {
   "cell_type": "markdown",
   "metadata": {},
   "source": [
    "### 5.3. Write fixture dataframe too\n",
    "\n"
   ]
  },
  {
   "cell_type": "code",
   "execution_count": null,
   "metadata": {},
   "outputs": [],
   "source": [
    "import datetime\n",
    "import os\n",
    "\n",
    "now = datetime.datetime.now() # current date and time\n",
    "\n",
    "now_str = now.strftime(\"%Y-%m-%d_%H:%M:%S\")\n",
    "upcoming_games_df.to_pickle(os.path.join(OUTPUT_PATH, f\"upcoming_games_df-{now_str}.pkl\"))\n",
    "team_apps_csv_df.to_pickle(os.path.join(OUTPUT_PATH, f\"team_apps_csv_df-{now_str}.pkl\"))\n",
    "\n",
    "print(f\"Finished saving dataframes: {now.strftime('%d/%m/%Y, %H:%M:%S')}\")"
   ]
  },
  {
   "cell_type": "markdown",
   "metadata": {},
   "source": [
    "# ------------ END FIXTURE PUBLISHING ------------"
   ]
  },
  {
   "cell_type": "markdown",
   "metadata": {},
   "source": [
    "## 6. Re-check Fixture\n",
    "\n",
    "On Friday, just before the game day, re-check to see if any game has been changed (e.g., venue, time).\n",
    "\n",
    "First, re-extract games in another dataframe:"
   ]
  },
  {
   "cell_type": "code",
   "execution_count": null,
   "metadata": {},
   "outputs": [],
   "source": [
    "# Recover pikle saved dataframe (comment if using above directly)\n",
    "FILE = \"upcoming_games_df-2022-09-06_17:14:47.pkl\"\n",
    "upcoming_games_df = pd.read_pickle(os.path.join(OUTPUT_PATH, FILE))\n",
    "\n",
    "upcoming_games_df[phq.GAMES_COLS]"
   ]
  },
  {
   "cell_type": "code",
   "execution_count": null,
   "metadata": {},
   "outputs": [],
   "source": [
    "upcoming_games2_df = phq_club.get_games(teams_df, GAME_DATE_TIMESTAMP)\n",
    "\n",
    "print(f'There were {upcoming_games2_df.shape[0]} games extracted for game day: {GAME_DATE_NAME}')\n",
    "upcoming_games2_df[phq.GAMES_COLS]"
   ]
  },
  {
   "cell_type": "markdown",
   "metadata": {},
   "source": [
    "Now, check for differences if any:"
   ]
  },
  {
   "cell_type": "code",
   "execution_count": null,
   "metadata": {},
   "outputs": [],
   "source": [
    "cols = ['team_name', 'schedule_timestamp', 'venue_name']\n",
    "\n",
    "print(\"Report games that have changed since last extraction:\")\n",
    "teams_changed = pd.concat([upcoming_games2_df[cols], upcoming_games_df[cols]]).drop_duplicates(keep=False)['team_name'].unique()\n",
    "\n",
    "changes_df = upcoming_games_df[cols].query(\"team_name in @teams_changed\")\n",
    "changes_df.merge(upcoming_games2_df[cols], how=\"outer\", on=\"team_name\", suffixes=('_new', '_old'))\n",
    "\n",
    "teams_changed"
   ]
  },
  {
   "cell_type": "code",
   "execution_count": null,
   "metadata": {},
   "outputs": [],
   "source": [
    "upcoming_games_df"
   ]
  },
  {
   "cell_type": "code",
   "execution_count": null,
   "metadata": {},
   "outputs": [],
   "source": [
    "upcoming_games_df[cols].merge(upcoming_games2_df[cols], indicator = True, how='outer', on=\"team_name\", suffixes=('_new', '_old')).loc[lambda x : x['_merge']!='both']\n"
   ]
  },
  {
   "cell_type": "markdown",
   "metadata": {},
   "source": [
    "### Check a particular team"
   ]
  },
  {
   "cell_type": "code",
   "execution_count": null,
   "metadata": {},
   "outputs": [],
   "source": [
    "upcoming_games_df.query(\"team_name == 'U14 Girls Black'\")"
   ]
  }
 ],
 "metadata": {
  "kernelspec": {
   "display_name": "Python 3 (ipykernel)",
   "language": "python",
   "name": "python3"
  },
  "language_info": {
   "codemirror_mode": {
    "name": "ipython",
    "version": 3
   },
   "file_extension": ".py",
   "mimetype": "text/x-python",
   "name": "python",
   "nbconvert_exporter": "python",
   "pygments_lexer": "ipython3",
   "version": "3.8.10"
  },
  "vscode": {
   "interpreter": {
    "hash": "31f2aee4e71d21fbe5cf8b01ff0e069b9275f58929596ceb00d14d90e3e16cd6"
   }
  }
 },
 "nbformat": 4,
 "nbformat_minor": 2
}
