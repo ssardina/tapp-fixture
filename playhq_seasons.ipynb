{
 "cells": [
  {
   "attachments": {},
   "cell_type": "markdown",
   "metadata": {},
   "source": [
    "# PlayHQ Seasons Extraction\n",
    "\n",
    "This notebook will help extract a particular season from from [PlayHQ](http://playhq.com/) via its Public [API](https://support.playhq.com/hc/en-au/sections/4405422358297-PlayHQ-APIs). It will produce a CSV file ready to be uploaded as Schedule in [TeamApp](https://brunswickmagicbasketball.teamapp.com/).\n",
    "\n",
    "The *Public* APIs only require a header parameters to get a successful response, which includes the following components:\n",
    "\n",
    "- `x-api-key` (also referred to as the Client ID) will be provided by PlayHQ when you request access to the public API via their [support page](https://support.playhq.com/hc/en-au) or email support@playhqsupport.zendesk.com. This key can be stored in a file `x_api_key.txt` or it will be asked interactively by the notebook otherwise. In many cases, the feature to create new API credentials is disabled for a user and can only be actioned by a Super Administrator role within the Play HQ portal.\n",
    "- `x-phq-tenant` usually refers to the sport/association - in this case '`bv`'.\n",
    "\n",
    "\n",
    "Detailed reference documentation for PlayHQ API can be found [here](https://docs.playhq.com/tech).\n",
    "\n",
    "**Contact:** Sebastian Sardina (sssardina@gmail.com)"
   ]
  },
  {
   "cell_type": "code",
   "execution_count": 2,
   "metadata": {},
   "outputs": [],
   "source": [
    "# from IPython.core.interactiveshell import InteractiveShell\n",
    "# InteractiveShell.ast_node_interactivity = \"all\"\n",
    "import pandas as pd\n",
    "import json\n",
    "import os\n",
    "import calendar, datetime\n",
    "import dtale\n",
    "\n",
    "import utils\n",
    "import playhq as phq"
   ]
  },
  {
   "attachments": {},
   "cell_type": "markdown",
   "metadata": {},
   "source": [
    "## 1. Configuration and set-up\n",
    "\n",
    "We first configure and set-up the application. This means reading configuration variables from a config file and setting the game day.\n",
    "\n",
    "So, first of all, specify the following information:\n",
    "\n",
    "1. Configuration file for the club and season.\n",
    "2. Game dates interval to scrape."
   ]
  },
  {
   "cell_type": "code",
   "execution_count": 3,
   "metadata": {},
   "outputs": [
    {
     "name": "stdout",
     "output_type": "stream",
     "text": [
      "Club name: Brunswick Magic Basketball Club (org. id: 8c4d5431-eaa5-4644-82ac-992abe224b88)\n",
      "X-tenant: bv x-api-key: f5d33c76-f858-49fa-8330-8e0e396219cd\n",
      "Timezone: Australia/Melbourne\n",
      "PlayHQ Club fixture: https://bit.ly/bmbc-s22\n"
     ]
    }
   ],
   "source": [
    "# Change this to import your club's own configuration\n",
    "from config_bmc_s22 import *\n",
    "# from config_cba import *\n",
    "\n",
    "# Create phq_club object\n",
    "phq_club = phq.PlayHQ(CLUB_NAME, ORG_ID, X_API_KEY, X_TENANT, TIMEZONE, tapp_team_name, tapp_game_name)\n",
    "\n",
    "print(f\"Club name: {CLUB_NAME} (org. id: {ORG_ID})\")\n",
    "print(\"X-tenant:\", X_TENANT, \"x-api-key:\", X_API_KEY)\n",
    "\n",
    "print(\"Timezone:\", TIMEZONE)\n",
    "print(\"PlayHQ Club fixture:\", PLAYHQ_SEASON_URL)"
   ]
  },
  {
   "attachments": {},
   "cell_type": "markdown",
   "metadata": {},
   "source": [
    "## Get seasons"
   ]
  },
  {
   "cell_type": "code",
   "execution_count": 4,
   "metadata": {},
   "outputs": [
    {
     "name": "stdout",
     "output_type": "stream",
     "text": [
      "{\n",
      "    \"data\": [\n",
      "        {\n",
      "            \"association\": {\n",
      "                \"id\": \"e18085db-c6de-512f-b78b-53d253c65b32\",\n",
      "                \"logo\": {\n",
      "                    \"sizes\": [\n",
      "                        {\n",
      "                            \"dimensions\": {\n",
      "                                \"height\": 32,\n",
      "                                \"width\": 32\n",
      "                            },\n",
      "                            \"url\": \"https://res.cloudinary.com/playhq/image/upload/h_32,w_32/v1/production/bv/e18085db-c6de-512f-b78b-53d253c65b32/1645069189211/logo.jpg\"\n",
      "                        },\n",
      "                        {\n",
      "                            \"dimensions\": {\n",
      "                                \"height\": 48,\n",
      "                                \"width\": 48\n",
      "                            },\n",
      "                            \"url\": \"https://res.cloudinary.com/playhq/image/upload/h_48,w_48/v1/production/bv/e18085db-c6de-512f-b78b-53d253c65b32/1645069189211/logo.jpg\"\n",
      "                        },\n",
      "                        {\n",
      "                            \"dimensions\": {\n",
      "                                \"height\": 128,\n",
      "                                \"width\": 128\n",
      "                            },\n",
      "                            \"url\": \"https://res.cloudinary.com/playhq/image/upload/h_128,w_128/v1/production/bv/e18085db-c6de-512f-b78b-53d253c65b32/1645069189211/logo.jpg\"\n",
      "                        },\n",
      "                        {\n",
      "                            \"dimensions\": {\n",
      "                                \"height\": 64,\n",
      "                                \"width\": 64\n",
      "                            },\n",
      "                            \"url\": \"https://res.cloudinary.com/playhq/image/upload/h_64,w_64/v1/production/bv/e18085db-c6de-512f-b78b-53d253c65b32/1645069189211/logo.jpg\"\n",
      "                        },\n",
      "                        {\n",
      "                            \"dimensions\": {\n",
      "                                \"height\": 96,\n",
      "                                \"width\": 96\n",
      "                            },\n",
      "                            \"url\": \"https://res.cloudinary.com/playhq/image/upload/h_96,w_96/v1/production/bv/e18085db-c6de-512f-b78b-53d253c65b32/1645069189211/logo.jpg\"\n",
      "                        },\n",
      "                        {\n",
      "                            \"dimensions\": {\n",
      "                                \"height\": 256,\n",
      "                                \"width\": 256\n",
      "                            },\n",
      "                            \"url\": \"https://res.cloudinary.com/playhq/image/upload/h_256,w_256/v1/production/bv/e18085db-c6de-512f-b78b-53d253c65b32/1645069189211/logo.jpg\"\n",
      "                        }\n",
      "                    ]\n",
      "                },\n",
      "                \"name\": \"Coburg Basketball Association\",\n",
      "                \"url\": \"https://www.playhq.com/basketball-victoria/org/coburg-basketball-association/e18085db\"\n",
      "            },\n",
      "            \"competition\": {\n",
      "                \"id\": \"81fe8d81-d087-4a63-b4fb-87bc85e9d8ac\",\n",
      "                \"name\": \"Junior Domestic\"\n",
      "            },\n",
      "            \"createdAt\": null,\n",
      "            \"id\": \"cdbe3065-2a32-4c6d-8771-f8fae3fa7611\",\n",
      "            \"name\": \"Winter 2023\",\n",
      "            \"status\": \"ACTIVE\",\n",
      "            \"updatedAt\": null\n",
      "        }\n",
      "    ],\n",
      "    \"metadata\": {\n",
      "        \"hasMore\": false,\n",
      "        \"nextCursor\": null\n",
      "    }\n",
      "}\n",
      "{'id': 'cdbe3065-2a32-4c6d-8771-f8fae3fa7611', 'name': 'Winter 2023', 'status': 'ACTIVE', 'association': {'id': 'e18085db-c6de-512f-b78b-53d253c65b32', 'name': 'Coburg Basketball Association', 'url': 'https://www.playhq.com/basketball-victoria/org/coburg-basketball-association/e18085db', 'logo': {'sizes': [{'url': 'https://res.cloudinary.com/playhq/image/upload/h_32,w_32/v1/production/bv/e18085db-c6de-512f-b78b-53d253c65b32/1645069189211/logo.jpg', 'dimensions': {'width': 32, 'height': 32}}, {'url': 'https://res.cloudinary.com/playhq/image/upload/h_48,w_48/v1/production/bv/e18085db-c6de-512f-b78b-53d253c65b32/1645069189211/logo.jpg', 'dimensions': {'width': 48, 'height': 48}}, {'url': 'https://res.cloudinary.com/playhq/image/upload/h_128,w_128/v1/production/bv/e18085db-c6de-512f-b78b-53d253c65b32/1645069189211/logo.jpg', 'dimensions': {'width': 128, 'height': 128}}, {'url': 'https://res.cloudinary.com/playhq/image/upload/h_64,w_64/v1/production/bv/e18085db-c6de-512f-b78b-53d253c65b32/1645069189211/logo.jpg', 'dimensions': {'width': 64, 'height': 64}}, {'url': 'https://res.cloudinary.com/playhq/image/upload/h_96,w_96/v1/production/bv/e18085db-c6de-512f-b78b-53d253c65b32/1645069189211/logo.jpg', 'dimensions': {'width': 96, 'height': 96}}, {'url': 'https://res.cloudinary.com/playhq/image/upload/h_256,w_256/v1/production/bv/e18085db-c6de-512f-b78b-53d253c65b32/1645069189211/logo.jpg', 'dimensions': {'width': 256, 'height': 256}}]}}, 'competition': {'id': '81fe8d81-d087-4a63-b4fb-87bc85e9d8ac', 'name': 'Junior Domestic'}, 'createdAt': None, 'updatedAt': None}\n"
     ]
    }
   ],
   "source": [
    "# get competition id\n",
    "# SEASON = \"Winter 2023\"\n",
    "SEASON = None   # use this if you don't know and want to list them all\n",
    "# ORG_ID = \"08f42de2-f546-53f1-993e-4eaefe606079\"\n",
    "\n",
    "season_id = None\n",
    "competition_id = None\n",
    "for data_json in phq_club.get_json(f\"organisations/{ORG_ID}/seasons\"):\n",
    "    print(json.dumps(data_json, sort_keys=True, indent=4))\n",
    "\n",
    "    for x in data_json['data']:\n",
    "        if SEASON is None:\n",
    "            print(x)\n",
    "            continue\n",
    "        if x['name'] == SEASON:\n",
    "            season_id = x['id']\n",
    "            # competition_id = x['competition']['id']\n",
    "            print(f'Seasons *{SEASON}* found with id: {season_id}')\n",
    "\n"
   ]
  },
  {
   "attachments": {},
   "cell_type": "markdown",
   "metadata": {},
   "source": [
    "## Get teams"
   ]
  },
  {
   "cell_type": "code",
   "execution_count": 7,
   "metadata": {},
   "outputs": [
    {
     "ename": "NameError",
     "evalue": "name 'self' is not defined",
     "output_type": "error",
     "traceback": [
      "\u001b[0;31m---------------------------------------------------------------------------\u001b[0m",
      "\u001b[0;31mNameError\u001b[0m                                 Traceback (most recent call last)",
      "\u001b[1;32m/home/ssardina/GoogleDrive/PROJECTS/basketball/tapp-fixture.git/playhq_seasons.ipynb Cell 8\u001b[0m in \u001b[0;36m<cell line: 16>\u001b[0;34m()\u001b[0m\n\u001b[1;32m     <a href='vscode-notebook-cell:/home/ssardina/GoogleDrive/PROJECTS/basketball/tapp-fixture.git/playhq_seasons.ipynb#X10sZmlsZQ%3D%3D?line=13'>14</a>\u001b[0m \u001b[39m# # put all teams together for the season and extract club's teams\u001b[39;00m\n\u001b[1;32m     <a href='vscode-notebook-cell:/home/ssardina/GoogleDrive/PROJECTS/basketball/tapp-fixture.git/playhq_seasons.ipynb#X10sZmlsZQ%3D%3D?line=14'>15</a>\u001b[0m teams_df \u001b[39m=\u001b[39m pd\u001b[39m.\u001b[39mconcat(teams_dfs)\n\u001b[0;32m---> <a href='vscode-notebook-cell:/home/ssardina/GoogleDrive/PROJECTS/basketball/tapp-fixture.git/playhq_seasons.ipynb#X10sZmlsZQ%3D%3D?line=15'>16</a>\u001b[0m club_teams_df \u001b[39m=\u001b[39m teams_df\u001b[39m.\u001b[39mloc[teams_df[\u001b[39m'\u001b[39m\u001b[39mclub.id\u001b[39m\u001b[39m'\u001b[39m] \u001b[39m==\u001b[39m \u001b[39mself\u001b[39;49m\u001b[39m.\u001b[39morg_id]\n\u001b[1;32m     <a href='vscode-notebook-cell:/home/ssardina/GoogleDrive/PROJECTS/basketball/tapp-fixture.git/playhq_seasons.ipynb#X10sZmlsZQ%3D%3D?line=17'>18</a>\u001b[0m columns \u001b[39m=\u001b[39m [\u001b[39m'\u001b[39m\u001b[39mid\u001b[39m\u001b[39m'\u001b[39m, \u001b[39m'\u001b[39m\u001b[39mname\u001b[39m\u001b[39m'\u001b[39m, \u001b[39m'\u001b[39m\u001b[39mgrade.id\u001b[39m\u001b[39m'\u001b[39m, \u001b[39m'\u001b[39m\u001b[39mgrade.name\u001b[39m\u001b[39m'\u001b[39m, \u001b[39m'\u001b[39m\u001b[39mgrade.url\u001b[39m\u001b[39m'\u001b[39m]\n\u001b[1;32m     <a href='vscode-notebook-cell:/home/ssardina/GoogleDrive/PROJECTS/basketball/tapp-fixture.git/playhq_seasons.ipynb#X10sZmlsZQ%3D%3D?line=18'>19</a>\u001b[0m club_teams_df \u001b[39m=\u001b[39m club_teams_df[columns]\n",
      "\u001b[0;31mNameError\u001b[0m: name 'self' is not defined"
     ]
    }
   ],
   "source": [
    "season_id = \"a94981b4-75b7-429f-9005-915182ab6153\" # Victorian Junior Domestic - Summer 2022/23\n",
    "season_id = \"cdbe3065-2a32-4c6d-8771-f8fae3fa7611\" # Victorian Junior Domestic - Winter 2023\n",
    "# season_id = \"78824ad1-0ca6-46c5-9440-dbe20c948b2f\"  # VJBL 2023\n",
    "# season_id = \"8d724c0a-3a0f-4da7-92f8-2e2053a6707b\"  # National Junior 2023\n",
    "\n",
    "teams_dfs = []\n",
    "for data_json in phq_club.get_json(f\"seasons/{season_id}/teams\"):\n",
    "    if data_json['data'][0]['club'] is None:\n",
    "        break\n",
    "    # print(data_json)\n",
    "    print(json.dumps(data_json, sort_keys=True, indent=4))\n",
    "    # teams_dfs.append(pd.json_normalize(data_json['data']))\n",
    "\n",
    "# # put all teams together for the season and extract club's teams\n",
    "# teams_df = pd.concat(teams_dfs)\n",
    "# # club_teams_df = teams_df.loc[teams_df['club.id'] == self.org_id]\n",
    "\n",
    "# columns = ['id', 'name', 'grade.id', 'grade.name', 'grade.url']\n",
    "# club_teams_df = club_teams_df[columns]\n",
    "# club_teams_df.dropna(inplace=True)\n",
    "# club_teams_df['age'] = club_teams_df['name'].apply(lambda x: re.search(\"U(\\d*)\", x).group(1) )\n",
    "# club_teams_df = club_teams_df.sort_values('age', ascending=False)\n",
    "# club_teams_df.reset_index(inplace=True, drop=True)\n"
   ]
  }
 ],
 "metadata": {
  "kernelspec": {
   "display_name": "Python 3",
   "language": "python",
   "name": "python3"
  },
  "language_info": {
   "codemirror_mode": {
    "name": "ipython",
    "version": 3
   },
   "file_extension": ".py",
   "mimetype": "text/x-python",
   "name": "python",
   "nbconvert_exporter": "python",
   "pygments_lexer": "ipython3",
   "version": "3.10.6"
  },
  "vscode": {
   "interpreter": {
    "hash": "767d51c1340bd893661ea55ea3124f6de3c7a262a8b4abca0554b478b1e2ff90"
   }
  }
 },
 "nbformat": 4,
 "nbformat_minor": 2
}
