{
 "cells": [
  {
   "attachments": {},
   "cell_type": "markdown",
   "metadata": {},
   "source": [
    "# PlayHQ Seasons Extraction\n",
    "\n",
    "This system allows to scrape game fixtures from [PlayHQ](http://playhq.com/) via its Public [API](https://support.playhq.com/hc/en-au/sections/4405422358297-PlayHQ-APIs). It will produce a CSV file ready to be uploaded as Schedule in [TeamApp](https://brunswickmagicbasketball.teamapp.com/).\n",
    "\n",
    "The *Public* APIs only require a header parameters to get a successful response, which includes the following components:\n",
    "\n",
    "- `x-api-key` (also referred to as the Client ID) will be provided by PlayHQ when you request access to the public API via their [support page](https://support.playhq.com/hc/en-au) or email support@playhqsupport.zendesk.com. This key can be stored in a file `x_api_key.txt` or it will be asked interactively by the notebook otherwise. In many cases, the feature to create new API credentials is disabled for a user and can only be actioned by a Super Administrator role within the Play HQ portal.\n",
    "- `x-phq-tenant` usually refers to the sport/association - in this case '`bv`'.\n",
    "\n",
    "\n",
    "Detailed reference documentation for PlayHQ API can be found [here](https://docs.playhq.com/tech).\n",
    "\n",
    "**Contact:** Sebastian Sardina (sssardina@gmail.com)"
   ]
  },
  {
   "cell_type": "code",
   "execution_count": null,
   "metadata": {},
   "outputs": [],
   "source": [
    "# from IPython.core.interactiveshell import InteractiveShell\n",
    "# InteractiveShell.ast_node_interactivity = \"all\"\n",
    "import pandas as pd\n",
    "import json\n",
    "import os\n",
    "import calendar, datetime\n",
    "import dtale\n",
    "\n",
    "import utils\n",
    "import playhq as phq"
   ]
  },
  {
   "cell_type": "markdown",
   "metadata": {},
   "source": [
    "## 1. Configuration and set-up\n",
    "\n",
    "We first configure and set-up the application. This means reading configuration variables from a config file and setting the game day.\n",
    "\n",
    "So, first of all, specify the following information:\n",
    "\n",
    "1. Configuration file for the club and season.\n",
    "2. Game dates interval to scrape."
   ]
  },
  {
   "cell_type": "code",
   "execution_count": null,
   "metadata": {},
   "outputs": [],
   "source": [
    "# Change this to import your club's own configuration\n",
    "from config_bmc import *\n",
    "# from config_cba import *\n",
    "\n",
    "# Create phq_club object\n",
    "phq_club = phq.PlayHQ(CLUB_NAME, ORG_ID, X_API_KEY, X_TENANT, TIMEZONE, tapp_team_name, tapp_game_name)\n",
    "season_id = phq_club.get_season_id(SEASON)\n",
    "\n",
    "print(f\"Club name: {CLUB_NAME} (org. id: {ORG_ID})\")\n",
    "print(f\"Season: {SEASON} (season id: {season_id})\")\n",
    "print(\"X-tenant:\", X_TENANT, \"x-api-key:\", X_API_KEY)\n",
    "print(\"Output path:\", OUTPUT_PATH)\n",
    "if not os.path.exists(OUTPUT_PATH):\n",
    "    raise SystemExit(\"ERROR! Output path {OUTPUT_PATH} is missing! Please create or link that path correctly to save data.\")\n",
    "\n",
    "print(\"Timezone:\", TIMEZONE)\n",
    "print(\"PlayHQ Club fixture:\", PLAYHQ_SEASON_URL)"
   ]
  },
  {
   "cell_type": "code",
   "execution_count": null,
   "metadata": {},
   "outputs": [],
   "source": [
    "# get competition id\n",
    "SEASON = \"Winter 2023\"\n",
    "# ORG_ID = \"08f42de2-f546-53f1-993e-4eaefe606079\"\n",
    "\n",
    "season_id = None\n",
    "competition_id = None\n",
    "for data_json in phq_club.get_json(f\"organisations/{ORG_ID}/seasons\"):\n",
    "    print(json.dumps(data_json, sort_keys=True, indent=4))\n",
    "\n",
    "    for x in data_json['data']:\n",
    "        if x['name'] == SEASON:\n",
    "            season_id = x['id']\n",
    "            # competition_id = x['competition']['id']\n",
    "            print(f'Seasons *{SEASON}* found with id: {season_id}')\n",
    "\n"
   ]
  }
 ],
 "metadata": {
  "kernelspec": {
   "display_name": "Python 3",
   "language": "python",
   "name": "python3"
  },
  "language_info": {
   "codemirror_mode": {
    "name": "ipython",
    "version": 3
   },
   "file_extension": ".py",
   "mimetype": "text/x-python",
   "name": "python",
   "nbconvert_exporter": "python",
   "pygments_lexer": "ipython3",
   "version": "3.10.6"
  },
  "vscode": {
   "interpreter": {
    "hash": "767d51c1340bd893661ea55ea3124f6de3c7a262a8b4abca0554b478b1e2ff90"
   }
  }
 },
 "nbformat": 4,
 "nbformat_minor": 2
}
